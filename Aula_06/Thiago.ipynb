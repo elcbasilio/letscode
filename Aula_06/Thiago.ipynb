{
 "cells": [
  {
   "cell_type": "code",
   "execution_count": 21,
   "metadata": {},
   "outputs": [
    {
     "name": "stdout",
     "output_type": "stream",
     "text": [
      "Hagrid 370\n",
      "Hermione 270\n",
      "Harry 1326\n",
      "Ron 454\n",
      "Draco 11\n",
      "Snape 172\n"
     ]
    }
   ],
   "source": [
    "magos = ['Hagrid','Hermione', 'Harry', 'Ron', 'Draco', 'Snape']\n",
    "import csv\n",
    "def personagens(listagem):\n",
    "   with open('personagens.csv',mode='w',newline='') as csvpersonagens:\n",
    "       personagens_writer = csv.writer(csvpersonagens)\n",
    "       for personagem in listagem:\n",
    "            with open('hp1_2.txt') as livro:\n",
    "                total = 0\n",
    "                for linha in livro:\n",
    "                    total += linha.count(personagem)\n",
    "                personagens_writer.writerow([personagem , total])\n",
    "                print (personagem, total)\n",
    "personagens(magos)"
   ]
  },
  {
   "cell_type": "code",
   "execution_count": null,
   "metadata": {},
   "outputs": [],
   "source": []
  }
 ],
 "metadata": {
  "kernelspec": {
   "display_name": "Python 3",
   "language": "python",
   "name": "python3"
  },
  "language_info": {
   "codemirror_mode": {
    "name": "ipython",
    "version": 3
   },
   "file_extension": ".py",
   "mimetype": "text/x-python",
   "name": "python",
   "nbconvert_exporter": "python",
   "pygments_lexer": "ipython3",
   "version": "3.6.5"
  }
 },
 "nbformat": 4,
 "nbformat_minor": 2
}
