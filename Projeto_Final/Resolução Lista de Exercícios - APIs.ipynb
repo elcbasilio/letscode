{
 "cells": [
  {
   "cell_type": "markdown",
   "metadata": {},
   "source": [
    "1.\tUsando a Numbers API, faça um programa que sorteie um número de 1 a 1000 e imprima uma trivia sobre esse número."
   ]
  },
  {
   "cell_type": "code",
   "execution_count": null,
   "metadata": {},
   "outputs": [],
   "source": [
    "import requests\n",
    "from random import randint\n",
    "funcao = str (randint(0, 1000))\n",
    "url = 'http://numbersapi.com/'+funcao+'/trivia?json'\n",
    "response = requests.get(url)\n",
    "resposta_json = response.json()\n",
    "print (' Número aleatório selecionado é',resposta_json['number'],'\\n Significado:',resposta_json['text'])"
   ]
  },
  {
   "cell_type": "markdown",
   "metadata": {},
   "source": [
    "2.\tUsando a Numbers API, faça um programa que sorteie um número de 1 a 1000 e imprima um fato matemático (tipo math) sobre esse número."
   ]
  },
  {
   "cell_type": "code",
   "execution_count": null,
   "metadata": {},
   "outputs": [],
   "source": [
    "import requests\n",
    "from random import randint\n",
    "funcao = str (randint(0, 1000))\n",
    "url = 'http://numbersapi.com/'+funcao+'/math?json'\n",
    "response = requests.get(url)\n",
    "resposta_json = response.json()\n",
    "print (' Número aleatório selecionado é',resposta_json['number'],'\\n Significado:',resposta_json['text'])"
   ]
  },
  {
   "cell_type": "markdown",
   "metadata": {},
   "source": [
    "3.\tUsando a numbers API, faça um programa que receba a data (no formato mes/dia, como string) do seu aniversário e imprima um fato que ocorreu "
   ]
  },
  {
   "cell_type": "code",
   "execution_count": null,
   "metadata": {},
   "outputs": [],
   "source": [
    "import requests\n",
    "funcao = input ('Digite o mês e dia de seu nascimento no formato mm/dd:')\n",
    "url = 'http://numbersapi.com/'+funcao+'/date?json'\n",
    "response = requests.get(url)\n",
    "resposta_json = response.json()\n",
    "print ('Fato:',resposta_json['text'])"
   ]
  },
  {
   "cell_type": "markdown",
   "metadata": {},
   "source": [
    "4.\tUsando a Exchange Rate API, faça um programa que imprima a taxa de conversão de reais para dólares americanos em tempo real. Seu programa deve imprimir também a data da última atualização da API."
   ]
  },
  {
   "cell_type": "code",
   "execution_count": 4,
   "metadata": {},
   "outputs": [
    {
     "name": "stdout",
     "output_type": "stream",
     "text": [
      "Data da última atualização: 2019-11-17 21:10:58\n",
      "Taxa de conversão: R$ 1 vale US$ 0.238351\n"
     ]
    }
   ],
   "source": [
    "import requests\n",
    "from datetime import datetime\n",
    "url = 'https://api.exchangerate-api.com/v4/latest/BRL'\n",
    "resposta = requests.get(url)\n",
    "resposta_json = resposta.json()\n",
    "conversao = resposta_json['rates']\n",
    "ultimaatualizacao = datetime.fromtimestamp (resposta_json['time_last_updated'])\n",
    "print ('Data da última atualização:',ultimaatualizacao)\n",
    "print ('Taxa de conversão: R$ 1 vale US$',conversao['USD'])"
   ]
  },
  {
   "cell_type": "markdown",
   "metadata": {},
   "source": [
    "5.\tUsando a Exchange Rate API, faça um programa que receba um valor em reais e o converta para dólares americanos. Seu programa deve imprimir também a data da última atualização da da taxa. "
   ]
  },
  {
   "cell_type": "code",
   "execution_count": 5,
   "metadata": {},
   "outputs": [
    {
     "name": "stdout",
     "output_type": "stream",
     "text": [
      "Você quer converter R$ em USD\n",
      "Digite o valor em R$ que possui: R$ 100\n",
      "Data da última atualização: 2019-11-17 21:10:58\n",
      "Taxa de conversão: R$ 1 vale US$ 0.238351 . Logo, R$ 100.0 é igual a US$ 23.8351\n"
     ]
    }
   ],
   "source": [
    "import requests\n",
    "url = 'https://api.exchangerate-api.com/v4/latest/BRL'\n",
    "resposta = requests.get(url)\n",
    "resposta_json = resposta.json()\n",
    "moeda = input ('Você quer converter R$ em ')\n",
    "valor = float (input ('Digite o valor em R$ que possui: R$ '))\n",
    "total = resposta_json['rates'][moeda] * valor\n",
    "ultimaatualizacao = datetime.fromtimestamp (resposta_json['time_last_updated'])\n",
    "print ('Data da última atualização:',ultimaatualizacao)\n",
    "print ('Taxa de conversão: R$ 1 vale US$',resposta_json['rates'][moeda],'. Logo, R$',valor,'é igual a US$',total)"
   ]
  },
  {
   "cell_type": "markdown",
   "metadata": {},
   "source": [
    "6.\tA lista de todas as siglas de moedas pode ser encontrada em\n",
    "https://www.exchangerate-api.com/docs/supported-currencie </p>\n",
    "<p>Usando a Exchange Rate API, faça um programa que receba a sigla de duas moedas, ORIGEM e DESTINO, e um valor X. Seu programa deve converter o valor X da moeda ORIGEM para a moeda DESTINO."
   ]
  },
  {
   "cell_type": "code",
   "execution_count": null,
   "metadata": {},
   "outputs": [],
   "source": [
    "import csv\n",
    "import requests\n",
    "with open ('Moedas_Mundo.csv') as csv_file:\n",
    "    moedas = csv.DictReader (csv_file)\n",
    "    origem = input (' Digite o país de Origem:')\n",
    "    destino = input (' Digite o país de Destino:')\n",
    "    valor = float (input (' Digite o valor a ser convertido:'))\n",
    "    for row in moedas:\n",
    "        if row['Country'] == origem:\n",
    "            moeda_origem = row['CurrencyCode']\n",
    "        if row['Country'] == destino:\n",
    "            moeda_destino = row['CurrencyCode']\n",
    "url = 'https://api.exchangerate-api.com/v4/latest/'+moeda_origem\n",
    "resposta = requests.get(url)\n",
    "resposta_json = resposta.json()\n",
    "total = resposta_json['rates'][moeda_destino] * valor\n",
    "print(' Moeda Origem:',moeda_origem,'\\n','Moeda Destino:',moeda_destino)\n",
    "ultimaatualizacao = datetime.fromtimestamp (resposta_json['time_last_updated'])\n",
    "print ('Data da última atualização:',ultimaatualizacao)\n",
    "print (' Taxa de conversão:',moeda_origem,' 1',' vale ',moeda_destino,resposta_json['rates'][moeda_destino],'\\n Portanto,',moeda_origem,valor,'é igual a',moeda_destino,total)"
   ]
  },
  {
   "cell_type": "markdown",
   "metadata": {},
   "source": [
    "7.\tRefaça o exercício 6 orientado a funções. Isto é, faça uma função que recebe duas moedas, ORIGEM e DESTINO, e um valor X. Sua função deve retornar o valor X convertido da moeda ORIGEM para a moeda DESTINO."
   ]
  },
  {
   "cell_type": "markdown",
   "metadata": {},
   "source": [
    "8.\tRefaça o exercício 6 orientado a objeto. Você deve construir uma classe Moeda. Essa classe deve ter como atributo a sigla da moeda e o dicionário de conversão. Faça um método para requisitar os dados. Faça também um método que receba uma outra moeda e um valor X, e retorne o valor X convertido para essa moeda recebida."
   ]
  },
  {
   "cell_type": "markdown",
   "metadata": {},
   "source": [
    "Para o exercício 9, usaremos a Open Weather API. Você deve realizar consultas através do link\n",
    "\thttp://api.openweathermap.org/data/2.5/weather?q={NOME_DA_CIDADE}&appid={CHAVE_DE_ACESSO}&units=metric\n",
    "Onde deve-se substituir NOME_DA_CIDADE pelo nome da cidade desejada e CHAVE_DE_ACESSO pela seguinte string:\n",
    "\tcb926da04c58d12e68807544e9a35f6c\n",
    "9.\tUsando a Open Weather API, faça uma função que receba um nome de uma cidade e imprima a temperatura máxima, a mínima, a umidade, a descrição do tempo e o horário da última atualização."
   ]
  },
  {
   "cell_type": "code",
   "execution_count": null,
   "metadata": {},
   "outputs": [],
   "source": [
    "import requests\n",
    "\n",
    "cidade=input('Digite o nome de uma cidade:')\n",
    "url = 'http://api.openweathermap.org/data/2.5/weather?q='+cidade+'&APPID='+CHAVE_DE_ACESSO\n",
    "resposta = requests.get(url)\n",
    "resposta_json = resposta.json()\n",
    "CHAVE_DE_ACESSO='fb385a3f3ca1c63d4faff2aaea7dd36b'\n",
    "#print (resposta_json)\n",
    "print ('Cidade: ',resposta_json['name'])\n",
    "print ('País: ',resposta_json['sys']['country'])\n",
    "print ('Temperatura Máxima: ',resposta_json['main']['temp_max']-273.15,'°C')\n",
    "print ('Temperatura Mínima: ',resposta_json['main']['temp_min']-273.15,'°C')\n",
    "print ('Umidade: ',resposta_json['main']['humidity'])\n",
    "print ('Descrição do Tempo: ',resposta_json['weather'][0]['description'])\n",
    "#print ('Última atualização: ',resposta_json['main'][0]['temp_max'])"
   ]
  },
  {
   "cell_type": "markdown",
   "metadata": {},
   "source": [
    "Para os primeiros exercícios vamos utilizar uma API do Star Wars, chamada de SWAPI. Entre no site deles para se informar sobre as respostas e requisições: https://swapi.co/\n",
    "1.\tFaça um programa que imprima o nome e o ano de nascimento dos 50 primeiros personagens listados no site;\n",
    "2.\tAgora implemente o seu programa, adicionando o nome do planeta de origem de cada personagem;\n",
    "Obs: você precisará fazer uma nova requisição para o planeta, caso ele não seja desconhecido. "
   ]
  },
  {
   "cell_type": "code",
   "execution_count": null,
   "metadata": {
    "scrolled": false
   },
   "outputs": [],
   "source": [
    "import requests\n",
    "numpage=1\n",
    "while numpage <= 51:\n",
    "    url = 'https://swapi.co/api/people/'+str(numpage)+'/'\n",
    "    resposta = requests.get(url)\n",
    "    resposta_json = resposta.json()\n",
    "    url_2 = resposta_json['homeworld']\n",
    "    resposta2 = requests.get(url_2)\n",
    "    resposta2_json = resposta2.json()\n",
    "    print('Personagem',numpage)\n",
    "    print('Nome:',resposta_json['name'])\n",
    "    print('Ano de Nascimento',resposta_json['birth_year'])\n",
    "    print('Planeta:',resposta2_json['name'])\n",
    "    if numpage == 16:\n",
    "        numpage+=2\n",
    "    else:\n",
    "        numpage+=1"
   ]
  },
  {
   "cell_type": "markdown",
   "metadata": {},
   "source": [
    "3.\tFaça um programa que imprima o nome dos personagens que apareceram no filme 4: \"The Phantom Menace\";"
   ]
  },
  {
   "cell_type": "code",
   "execution_count": null,
   "metadata": {},
   "outputs": [],
   "source": [
    "import requests\n",
    "url = 'https://swapi.co/api/films/4'\n",
    "resposta = requests.get(url)\n",
    "resposta_json = resposta.json()\n",
    "#print (resposta_json['characters'])\n",
    "a=1\n",
    "for i in resposta_json['characters']:\n",
    "    url_2 = i\n",
    "    resposta2 = requests.get(url_2)\n",
    "    resposta2_json = resposta2.json()\n",
    "    print ('Personagem',a,':',resposta2_json['name'])\n",
    "    a+=1"
   ]
  },
  {
   "cell_type": "markdown",
   "metadata": {},
   "source": [
    "Para os próximos exercícios vamos utilizar uma API do Governo Federal para analisar os gastos por meio de cartão de pagamento. O link da API é:\n",
    "“http://www.transparencia.gov.br/api-de-dados/cartoes?mesExtratoInicio={}%2F{}&mesExtratoFim={}%2F{}&pagina={}”.format(mes_ini, ano_ini, mes_fim, ano_fim, pagina)\n",
    "onde os dados retornados correspondem a um intervalo definido por um mês e ano inicial (mes_ini e ano_ini) e um mês e ano final (mes_fim, ano_fim) e são apresentados 14 dados por página, com a primeira página sendo definida por pagina = 1.\n",
    "4.\tFaça uma requisição da API para obter os dados entre 06/2018 e 07/2018 e responda:\n",
    "a.\tQuantos pagamentos foram realizados por meio de cartão de pagamento nesse intervalo?\n",
    "Obs: lembre-se de olhar todas as páginas possíveis. Você pode usar um loop infinito para isso, e sair do loop quando a requisição não retornar 200;"
   ]
  },
  {
   "cell_type": "code",
   "execution_count": 1,
   "metadata": {},
   "outputs": [
    {
     "name": "stdout",
     "output_type": "stream",
     "text": [
      "Digite o mês e ano de inicio de consulta do extrato (mm/aaaa):06/2018\n",
      "Digite o mês e ano do fim de consulta do extrato (mm/aaaa):07/2018\n",
      "Pagamentos realizados por meio de cartão de pagamento nesse intervalo? 116640\n"
     ]
    }
   ],
   "source": [
    "import requests\n",
    "mesanoinicio = input ('Digite o mês e ano de inicio de consulta do extrato (mm/aaaa):')\n",
    "mesanofim = input ('Digite o mês e ano do fim de consulta do extrato (mm/aaaa):')\n",
    "pagina=1\n",
    "soma=0\n",
    "url = 'http://www.transparencia.gov.br/api-de-dados/cartoes?mesExtratoInicio='+mesanoinicio+'&mesExtratoFim='+mesanofim+'&pagina='+str(pagina)\n",
    "resposta = requests.get(url)\n",
    "resposta_json = resposta.json()\n",
    "while resposta.status_code == 200 and resposta_json!=[]:\n",
    "    pagina+=1000\n",
    "    url = 'http://www.transparencia.gov.br/api-de-dados/cartoes?mesExtratoInicio='+mesanoinicio+'&mesExtratoFim='+mesanofim+'&pagina='+str(pagina)\n",
    "    resposta = requests.get(url)\n",
    "    resposta_json = resposta.json()\n",
    "while resposta.status_code == 200 and resposta_json==[]:\n",
    "    pagina-=100\n",
    "    url = 'http://www.transparencia.gov.br/api-de-dados/cartoes?mesExtratoInicio='+mesanoinicio+'&mesExtratoFim='+mesanofim+'&pagina='+str(pagina)\n",
    "    resposta = requests.get(url)\n",
    "    resposta_json = resposta.json()\n",
    "while resposta.status_code == 200 and resposta_json!=[]:\n",
    "    pagina+=10\n",
    "    url = 'http://www.transparencia.gov.br/api-de-dados/cartoes?mesExtratoInicio='+mesanoinicio+'&mesExtratoFim='+mesanofim+'&pagina='+str(pagina)\n",
    "    resposta = requests.get(url)\n",
    "    resposta_json = resposta.json()\n",
    "while resposta.status_code == 200 and resposta_json==[]:\n",
    "    pagina-=1\n",
    "    url = 'http://www.transparencia.gov.br/api-de-dados/cartoes?mesExtratoInicio='+mesanoinicio+'&mesExtratoFim='+mesanofim+'&pagina='+str(pagina)\n",
    "    resposta = requests.get(url)\n",
    "    resposta_json = resposta.json()\n",
    "soma=(pagina-1)*15\n",
    "url = 'http://www.transparencia.gov.br/api-de-dados/cartoes?mesExtratoInicio='+mesanoinicio+'&mesExtratoFim='+mesanofim+'&pagina='+str(pagina-1)\n",
    "resposta = requests.get(url)\n",
    "resposta_json = resposta.json()\n",
    "for i in resposta_json:\n",
    "    soma+=1\n",
    "print ('Pagamentos realizados por meio de cartão de pagamento nesse intervalo?',soma)"
   ]
  },
  {
   "cell_type": "markdown",
   "metadata": {},
   "source": [
    "b.\tQual foi o maior valor de transação?</P>\n",
    "<P>c.\tQual o nome do portador do cartão responsável por esse gasto?"
   ]
  },
  {
   "cell_type": "code",
   "execution_count": null,
   "metadata": {
    "scrolled": true
   },
   "outputs": [],
   "source": [
    "import requests\n",
    "mesanoinicio = input ('Digite o mês e ano de inicio de consulta do extrato (mm/aaaa):')\n",
    "mesanofim = input ('Digite o mês e ano do fim de consulta do extrato (mm/aaaa):')\n",
    "pagina=1\n",
    "maiorvalor=0\n",
    "indice=0\n",
    "url = 'http://www.transparencia.gov.br/api-de-dados/cartoes?mesExtratoInicio='+mesanoinicio+'&mesExtratoFim='+mesanofim+'&pagina='+str(pagina)\n",
    "resposta = requests.get(url)\n",
    "resposta_json = resposta.json()\n",
    "for i in resposta_json:\n",
    "    if indice < 15:\n",
    "        if (resposta_json[indice]['valorTransacao']) == '':\n",
    "            valortmp1=0\n",
    "        else:\n",
    "            valortmp1 = (resposta_json[indice]['valorTransacao'])\n",
    "        valortmp2 = (valortmp1.replace(\".\",\"\"))\n",
    "        valortmp3 = (valortmp2.replace(\",\",\".\"))\n",
    "        valortmp4 = (valortmp3.replace(\" \",\"\"))\n",
    "        valor = float (valortmp4)\n",
    "        if valor > maiorvalor:\n",
    "            maiorvalor = valor\n",
    "        indice+=1\n",
    "while resposta.status_code == 200 and resposta_json!=[]:\n",
    "    pagina+=1\n",
    "    indice=0\n",
    "    url = 'http://www.transparencia.gov.br/api-de-dados/cartoes?mesExtratoInicio='+mesanoinicio+'&mesExtratoFim='+mesanofim+'&pagina='+str(pagina)\n",
    "    resposta = requests.get(url)\n",
    "    resposta_json = resposta.json()\n",
    "    for i in resposta_json:\n",
    "        if indice < 15:\n",
    "            if (resposta_json[indice]['valorTransacao']) == '':\n",
    "                valortmp1=0\n",
    "            else:\n",
    "                valortmp1 = (resposta_json[indice]['valorTransacao'])\n",
    "            valortmp2 = (valortmp1.replace(\".\",\"\"))\n",
    "            valortmp3 = (valortmp2.replace(\",\",\".\"))\n",
    "            valortmp4 = (valortmp3.replace(\" \",\"\"))\n",
    "            valor = float (valortmp4)\n",
    "            if valor > maiorvalor:\n",
    "                maiorvalor = valor\n",
    "                nome = resposta_json[indice]['portador']['nome']\n",
    "                print ('Nome do portador do cartão com maior gasto:',nome)\n",
    "                print ('Valor gasto:',maiorvalor)\n",
    "            indice+=1\n"
   ]
  },
  {
   "cell_type": "markdown",
   "metadata": {},
   "source": [
    "5.\tImprima uma tabela com nome do portador e valor da transação para todos os pagamentos por meio de cartão realizados entre 11/2017 e 12/2017"
   ]
  },
  {
   "cell_type": "code",
   "execution_count": null,
   "metadata": {},
   "outputs": [],
   "source": [
    "import requests\n",
    "mesanoinicio = input ('Digite o mês e ano de inicio de consulta do extrato (mm/aaaa):')\n",
    "mesanofim = input ('Digite o mês e ano do fim de consulta do extrato (mm/aaaa):')\n",
    "pagina=1\n",
    "data=[]\n",
    "indice=0\n",
    "url = 'http://www.transparencia.gov.br/api-de-dados/cartoes?mesExtratoInicio='+mesanoinicio+'&mesExtratoFim='+mesanofim+'&pagina='+str(pagina)\n",
    "resposta = requests.get(url)\n",
    "resposta_json = resposta.json()\n",
    "for i in resposta_json:\n",
    "    if indice < 15:\n",
    "        data1=[]\n",
    "        nome=resposta_json[indice]['portador']['nome']\n",
    "        data1.append(nome)\n",
    "        valor = resposta_json[indice]['valorTransacao']\n",
    "        data1.append(valor)\n",
    "        data.append(data1)\n",
    "    indice+=1\n",
    "while resposta.status_code == 200 and resposta_json!=[]:\n",
    "    pagina+=1\n",
    "    indice=0\n",
    "    url = 'http://www.transparencia.gov.br/api-de-dados/cartoes?mesExtratoInicio='+mesanoinicio+'&mesExtratoFim='+mesanofim+'&pagina='+str(pagina)\n",
    "    resposta = requests.get(url)\n",
    "    resposta_json = resposta.json()\n",
    "    for i in resposta_json:\n",
    "        if indice < 15:\n",
    "            data1=[]\n",
    "            nome=resposta_json[indice]['portador']['nome']\n",
    "            data1.append(nome)\n",
    "            valor = resposta_json[indice]['valorTransacao']\n",
    "            data1.append(valor)\n",
    "            data.append(data1)\n",
    "        indice+=1\n",
    "\n",
    "from tabulate import tabulate\n",
    "headers = ['Nome do Portador', 'Valor Gasto']\n",
    "print(tabulate(data, headers, tablefmt='psql'))"
   ]
  }
 ],
 "metadata": {
  "kernelspec": {
   "display_name": "Python 3",
   "language": "python",
   "name": "python3"
  },
  "language_info": {
   "codemirror_mode": {
    "name": "ipython",
    "version": 3
   },
   "file_extension": ".py",
   "mimetype": "text/x-python",
   "name": "python",
   "nbconvert_exporter": "python",
   "pygments_lexer": "ipython3",
   "version": "3.7.4"
  }
 },
 "nbformat": 4,
 "nbformat_minor": 2
}
