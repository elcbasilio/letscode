import csv 
'''
Nesse sistema de estoque, cada item é uma lista de duas posições,
onde a primeira representa o nome e a segunda a quantidade em estoque.
Por exemplo:
        0       1
    ['banana', 10]
      nome     qtd

Estrutura de dados da lista que representa o estoque:
db = [
    [banana,6],
    [cenoura,2],
    [copo,10]
]
'''

def add_item(db, name, stock):
    return change_item(db, name, stock)

def remove_item(db, name, stock):
    if stock < 0:
        stock = -stock

    return change_item(db, name, -stock)

def change_item(db, name, stock):    
    prev_stock = 0
    found_it = False
    for item in db:
        if item[0] == name:
            prev_stock = item[1]
            item[1] += stock
            found_it = True
            break

    if not found_it and stock < 0:
        return "Item {} não encontrado no estoque".format(name)
    elif not found_it and stock > 0:
        db.append([name, stock])
        return 'Item {} inserido!'.format(name)
    else:
        return "Item {} alterado de {} para {}".format(name, prev_stock, prev_stock + stock)

def filter(db, name=''):
    filtered = []
    for item in db:
        if name == '' or name == item[0]:
            filtered.append(item)
    
    return filtered

def persist(db, file_name):
    with open(file_name, 'w', newline='') as file:
        csv_writer = csv.writer(file)
        for item in db:
            csv_writer.writerow(item)

def load(file_name):
    db = []
    with open(file_name, 'r') as file:
        csv_reader = csv.reader(file)
        for row in csv_reader:
            db.append(row)
    return db

def get_welcome_message():
    return '''
        Bem vindo ao Sisteminha de Estoque :)
        Você deseja iniciar um novo banco de dados ou quer carregar de um arquivo?
        1) Novo estoque
        2) Carregar de um arquivo
    '''

def menu():
    return '''
        Escolha a opção:
        1) Listar todos os produtos
        2) Adicionar item
        3) Remover item
        4) Filtrar
        5) Salvar
        6) Sair
    '''

def print_db(db):
    print('\n\n')
    print('########')
    print('')
    for item in db:
        print('   item: {}, estoque: {}'.format(item[0], item[1]))
    print('')
    print('########')

def start_system():
    db = []
    print(get_welcome_message())
    try:
        option = int(input(''))
    except:
        option = 1
    
    if option == 2:
        file_name = input('Digite o nome do arquivo')
        db = load(file_name)
    
    while True:
        print(menu())
        try:
            option = int(input('Digite a opção: '))
        except:
            print('Opção inválida!')
            continue
        
        # Listar produtos
        if option == 1:
            filtered = filter(db)
            print_db(filtered)
        # Adicionar produtos
        elif option == 2:
            value = input('Digite o item (no formato nome,quantidade): ')
            info = value.split(',')
            print(add_item(db, info[0], int(info[1])))
        # Remover produtos
        elif option == 3:
            value = input('Nome do item: ')
            quantity = int(input('Quantidade: '))
            print(remove_item(db, value, quantity))
        # Filtragem
        elif option == 4:
            name = input('Digite o nome do produto para filtro: ')
            filtered = filter(db, name)
            print_db(filtered)
        # Salvar arquivo
        elif option == 5:
            file_name = input('Digite o nome do arquivo a ser persistido: ')
            persist(db, file_name)
        else:
            print('Volte logo!')
            break

# Inicia o sistema
start_system()