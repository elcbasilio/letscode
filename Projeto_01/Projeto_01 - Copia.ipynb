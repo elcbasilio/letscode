{
 "cells": [
  {
   "cell_type": "markdown",
   "metadata": {},
   "source": [
    "# Projeto Python\n",
    "## Controle de Estoque\n",
    "---\n",
    "Vamos implementar um sistema de estoque, que funcione com uma interface pelo terminal.\n",
    "No sistema, cada item possui um nome e seu estoque. \n",
    "O usuário deverá ser capaz de:\n",
    "- Inserir um novo item\n",
    "    - Se o item já estiver no banco de dados, somar o valor de estoque ao anterior\n",
    "- Remover um item pelo seu nome\n",
    "- Filtrar os itens por *Nome*\n",
    "- Salvar o estoque atual em arquivo, com nome definido pelo mesmo\n",
    "- Carregar o sistema com um arquivo específico (*opcional*)"
   ]
  },
  {
   "cell_type": "code",
   "execution_count": 2,
   "metadata": {},
   "outputs": [
    {
     "name": "stdout",
     "output_type": "stream",
     "text": [
      "***** Controle de Estoque *****\n",
      "\n",
      "Opções:\n",
      "\n",
      "1 - Inserir um item\n",
      "2 - Remover um item pelo nome\n",
      "3 - Filtrar os itens pelo nome\n",
      "4 - Salvar o estoque atual em arquivo\n",
      "5 - Carregar\n",
      "6 - Sair\n",
      "\n",
      "Digite a opção desejada: 6\n",
      "Obrigado!\n"
     ]
    }
   ],
   "source": [
    "def tela_principal():\n",
    "    print ('***** Controle de Estoque *****')\n",
    "    print ('')\n",
    "    print ('Opções:')\n",
    "    print ('')\n",
    "    print ('1 - Inserir um item')\n",
    "    print ('2 - Remover um item pelo nome')\n",
    "    print ('3 - Filtrar os itens pelo nome')\n",
    "    print ('4 - Salvar o estoque atual em arquivo') \n",
    "    print ('5 - Carregar')\n",
    "    print ('6 - Sair')\n",
    "    print ('')\n",
    "    opcao = int (input('Digite a opção desejada: '))\n",
    "    return opcao\n",
    "\n",
    "def item1():\n",
    "    import csv\n",
    "    import os.path\n",
    "    arq_existe = os.path.isfile('cadastros.csv')\n",
    "    if arq_existe:\n",
    "        with open('cadastros.csv', mode='a',newline='') as cadastro_file:\n",
    "            nome = input ('Digite o nome do item: ')\n",
    "            qtde = int (input ('Digite a quantidade de produtos deste item: '))\n",
    "            cadastro_writer = csv.writer(cadastro_file)\n",
    "            cadastro_writer.writerow([nome,qtde])\n",
    "            sair = input ('Deseja continuar <S/N>: ')\n",
    "            while sair.upper() == 'S':\n",
    "                nome = input ('Digite o nome do item: ')\n",
    "                qtde = int (input ('Digite a quantidade de produtos deste item: '))\n",
    "                cadastro_writer.writerow([nome,qtde])\n",
    "                sair = input ('Deseja continuar <S/N>: ')           \n",
    "    else:\n",
    "        with open('cadastros.csv', mode='w',newline='') as cadastro_file:\n",
    "            nome = input ('Digite o nome do item: ')\n",
    "            qtde = int (input ('Digite a quantidade de produtos deste item: '))\n",
    "            cadastro_writer = csv.writer(cadastro_file)\n",
    "            cadastro_writer.writerow(['Item', 'Quantidade'])\n",
    "            cadastro_writer.writerow([nome,qtde])\n",
    "            sair = input ('Deseja continuar <S/N>: ')\n",
    "            while sair.upper() == 'S':\n",
    "                nome = input ('Digite o nome do item: ')\n",
    "                qtde = int (input ('Digite a quantidade de produtos deste item: '))\n",
    "                cadastro_writer.writerow([nome,qtde])\n",
    "                sair = input ('Deseja continuar <S/N>: ')\n",
    "            \n",
    "opcao = 1000\n",
    "while opcao != 6:\n",
    "    opcao = tela_principal()\n",
    "    if opcao == 1:\n",
    "        item1()\n",
    "print ('Obrigado!')"
   ]
  },
  {
   "cell_type": "code",
   "execution_count": null,
   "metadata": {},
   "outputs": [],
   "source": []
  }
 ],
 "metadata": {
  "kernelspec": {
   "display_name": "Python 3",
   "language": "python",
   "name": "python3"
  },
  "language_info": {
   "codemirror_mode": {
    "name": "ipython",
    "version": 3
   },
   "file_extension": ".py",
   "mimetype": "text/x-python",
   "name": "python",
   "nbconvert_exporter": "python",
   "pygments_lexer": "ipython3",
   "version": "3.6.5"
  }
 },
 "nbformat": 4,
 "nbformat_minor": 2
}
