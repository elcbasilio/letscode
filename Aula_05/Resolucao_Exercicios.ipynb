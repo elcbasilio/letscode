{
 "cells": [
  {
   "cell_type": "markdown",
   "metadata": {},
   "source": [
    "1. Faça um programa que pede para o usuário digitar uma palavra e imprima\n",
    "cada letra em uma linha."
   ]
  },
  {
   "cell_type": "code",
   "execution_count": 1,
   "metadata": {},
   "outputs": [
    {
     "name": "stdout",
     "output_type": "stream",
     "text": [
      "Digite uma palavra: mundo\n",
      "m\n",
      "u\n",
      "n\n",
      "d\n",
      "o\n"
     ]
    }
   ],
   "source": [
    "palavra = input ('Digite uma palavra: ')\n",
    "for i in palavra:\n",
    "    print (i)"
   ]
  },
  {
   "cell_type": "markdown",
   "metadata": {},
   "source": [
    "2. Faça um programa que pede para o usuário digitar uma palavra e cria uma\n",
    "nova string igual, copiando letra por letra, depois imprima a nova string."
   ]
  },
  {
   "cell_type": "code",
   "execution_count": 2,
   "metadata": {},
   "outputs": [
    {
     "name": "stdout",
     "output_type": "stream",
     "text": [
      "Digite uma palavra: mundo\n",
      "letra por letra m, m\n",
      "letra por letra u, mu\n",
      "letra por letra n, mun\n",
      "letra por letra d, mund\n",
      "letra por letra o, mundo\n"
     ]
    }
   ],
   "source": [
    "palavra = input ('Digite uma palavra: ')\n",
    "palavra2 = ''\n",
    "for i in palavra:\n",
    "    palavra2 += i\n",
    "    print ('letra por letra {}, {}'.format(i,palavra2))"
   ]
  },
  {
   "cell_type": "markdown",
   "metadata": {},
   "source": [
    "<p>3. Altere o exercício anterior para que a string copiada alterne entre letras maiúsculas e minúsculas</p>\n",
    "<p>Exemplo: se o usuário digitar \"latex\" o programa deve imprimir \"LaTeX\"."
   ]
  },
  {
   "cell_type": "code",
   "execution_count": 3,
   "metadata": {},
   "outputs": [
    {
     "name": "stdout",
     "output_type": "stream",
     "text": [
      "Digite uma palavra: mundo\n",
      "M\n",
      "Mu\n",
      "MuN\n",
      "MuNd\n",
      "MuNdO\n"
     ]
    }
   ],
   "source": [
    "palavra = input ('Digite uma palavra: ')\n",
    "palavra2=''\n",
    "i=0\n",
    "for letra in palavra:\n",
    "    if i % 2 == 0:\n",
    "        palavra2 += letra.upper()\n",
    "    else:\n",
    "        palavra2 += letra.lower()   \n",
    "    i+=1\n",
    "    print (palavra2)"
   ]
  },
  {
   "cell_type": "markdown",
   "metadata": {},
   "source": [
    "4. Faça um programa que pede para o usuário digitar uma palavra e cria uma nova string igual, porém com espaço entre cada letra, depois imprima a nova string:\n",
    "Ex: se o usuário digitar \"python\" o programa deve imprimir \"p y t h o n \""
   ]
  },
  {
   "cell_type": "code",
   "execution_count": 4,
   "metadata": {},
   "outputs": [
    {
     "name": "stdout",
     "output_type": "stream",
     "text": [
      "Digite uma palavra: mundo\n",
      "m u n d o \n"
     ]
    }
   ],
   "source": [
    "palavra = input ('Digite uma palavra: ')\n",
    "palavra2 = ''\n",
    "for letra in palavra:\n",
    "    palavra2 += letra + ' '\n",
    "print (palavra2)"
   ]
  },
  {
   "cell_type": "markdown",
   "metadata": {},
   "source": [
    "<p>5. Faça uma função que receba uma string e retorne uma nova string substituindo:</p>\n",
    "<p>'a' por '4'</p>\n",
    "<p>'e' por '3'</p>\n",
    "<p>'I' por '1'</p>\n",
    "<p>'t' por '7'"
   ]
  },
  {
   "cell_type": "code",
   "execution_count": 5,
   "metadata": {},
   "outputs": [
    {
     "name": "stdout",
     "output_type": "stream",
     "text": [
      "Digite uma palavra: minuta\n",
      "A nova palavra é m1nu74\n"
     ]
    }
   ],
   "source": [
    "def subst (letra):\n",
    "    nova_palavra=''\n",
    "    for letra in palavra:\n",
    "        if letra.lower() == 'a': \n",
    "            nova_palavra += '4'\n",
    "        elif letra.lower() == 'e':\n",
    "            nova_palavra += '3'\n",
    "        elif letra.upper() == 'I':\n",
    "            nova_palavra += '1'\n",
    "        elif letra.lower() == 't':\n",
    "            nova_palavra += '7'\n",
    "        else:\n",
    "            nova_palavra += letra.lower()\n",
    "    return nova_palavra\n",
    "palavra = input ('Digite uma palavra: ')\n",
    "print ('A nova palavra é',subst(letra))"
   ]
  },
  {
   "cell_type": "markdown",
   "metadata": {},
   "source": [
    "6. Faça uma função que recebe uma string e retorna ela ao contrário.\n",
    "Exemplo: recebe \"teste\" retorna \"etset\""
   ]
  },
  {
   "cell_type": "code",
   "execution_count": 6,
   "metadata": {},
   "outputs": [
    {
     "name": "stdout",
     "output_type": "stream",
     "text": [
      "Digite uma palavra: mundo\n",
      "odnum\n"
     ]
    }
   ],
   "source": [
    "palavra = input ('Digite uma palavra: ')\n",
    "def contra ():\n",
    "    tamanho=len(palavra)\n",
    "    nova_palavra = ''\n",
    "    while tamanho > 0:\n",
    "        nova_palavra += palavra[tamanho-1]\n",
    "        tamanho-=1\n",
    "    return nova_palavra\n",
    "print (contra())"
   ]
  },
  {
   "cell_type": "markdown",
   "metadata": {},
   "source": [
    "7. Agora faça uma função que recebe uma palavra e diz se ela é um palíndromo, ou seja, se ela é igual a ela mesma ao contrário.\n",
    "Dica: use a função do exercício 5."
   ]
  },
  {
   "cell_type": "code",
   "execution_count": 7,
   "metadata": {},
   "outputs": [
    {
     "name": "stdout",
     "output_type": "stream",
     "text": [
      "Digite uma palavra: arara\n",
      "A palavra arara é um palíndromo\n"
     ]
    }
   ],
   "source": [
    "def contra ():\n",
    "    tamanho=len(palavra)\n",
    "    nova_palavra = ''\n",
    "    while tamanho > 0:\n",
    "        nova_palavra += palavra[tamanho-1]\n",
    "        tamanho-=1\n",
    "    return nova_palavra\n",
    "palavra = input ('Digite uma palavra: ')\n",
    "if palavra == contra():\n",
    "    print ('A palavra',palavra,'é um palíndromo')\n",
    "else:\n",
    "    print ('A palavra',palavra,'não é um palíndromo')"
   ]
  },
  {
   "cell_type": "markdown",
   "metadata": {},
   "source": [
    "8. Faça uma função que receba um texto e uma palavra, então verifique se a palavra está no texto e retorne True ou False ."
   ]
  },
  {
   "cell_type": "code",
   "execution_count": 25,
   "metadata": {},
   "outputs": [
    {
     "name": "stdout",
     "output_type": "stream",
     "text": [
      "Digite uma palavra: ou\n",
      "Digite um texto: que mundo louco\n",
      "A palavra \" ou \" foi encontrada no texto? True\n"
     ]
    }
   ],
   "source": [
    "palavra = input ('Digite uma palavra: ')\n",
    "texto = input ('Digite um texto: ')\n",
    "def encontra():\n",
    "    tam_palavra= len(palavra)\n",
    "    inicio=0\n",
    "    while inicio <= len (texto):\n",
    "        if texto[inicio:tam_palavra+inicio] == palavra:\n",
    "            resultado = 'True'\n",
    "            break\n",
    "        else:\n",
    "            resultado = 'False'\n",
    "        inicio+=1\n",
    "    return resultado\n",
    "print ('A palavra \"',palavra,'\" foi encontrada no texto?',encontra())"
   ]
  },
  {
   "cell_type": "markdown",
   "metadata": {},
   "source": [
    "9. Faça uma função que receba um string que contém tanto números quanto letras e caracteres, e que separe as letras em uma variável e os números em outra (os caracteres podem ser descartados). Ao final o programa deve imprimir as duas variáveis"
   ]
  },
  {
   "cell_type": "code",
   "execution_count": 3,
   "metadata": {},
   "outputs": [
    {
     "name": "stdout",
     "output_type": "stream",
     "text": [
      "Digite um texto contendo letras, números e caracteres especiais: osdf4t9wrw945jwefjee vvqq000000zzzaeihjjjo u\n",
      "As consoantes do texto digitado são: sdftwrwjwfjvvqqzzzhjjj\n",
      "As vogais do texto digitado são: oeeeaeiou\n"
     ]
    }
   ],
   "source": [
    "texto = input ('Digite um texto contendo letras, números e caracteres especiais: ')\n",
    "consoantes = 'bcdfghjklmnpqrstvwxyz'\n",
    "vogais = 'aeiou'\n",
    "def separa_consoantes ():\n",
    "    separa_consoante=''\n",
    "    for i in texto:\n",
    "        for j in consoantes:\n",
    "            if i == j:\n",
    "                separa_consoante+=i\n",
    "                break\n",
    "    return separa_consoante\n",
    "\n",
    "def separa_vogais ():\n",
    "    separa_vogal=''\n",
    "    for k in texto:\n",
    "        for l in vogais:\n",
    "            if k == l:\n",
    "                separa_vogal+=k\n",
    "                break\n",
    "    return separa_vogal\n",
    "\n",
    "print ('As consoantes do texto digitado são:',separa_consoantes ())\n",
    "print ('As vogais do texto digitado são:',separa_vogais ())"
   ]
  }
 ],
 "metadata": {
  "kernelspec": {
   "display_name": "Python 3",
   "language": "python",
   "name": "python3"
  },
  "language_info": {
   "codemirror_mode": {
    "name": "ipython",
    "version": 3
   },
   "file_extension": ".py",
   "mimetype": "text/x-python",
   "name": "python",
   "nbconvert_exporter": "python",
   "pygments_lexer": "ipython3",
   "version": "3.6.5"
  }
 },
 "nbformat": 4,
 "nbformat_minor": 2
}
