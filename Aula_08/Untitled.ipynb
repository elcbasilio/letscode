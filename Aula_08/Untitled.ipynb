{
 "cells": [
  {
   "cell_type": "code",
   "execution_count": 12,
   "metadata": {},
   "outputs": [],
   "source": [
    "class Pokemon():\n",
    "    def __init__(self, nome_para_construcao, tipo, hp):\n",
    "        self.nome = nome_para_construcao\n",
    "        self.tipo = tipo\n",
    "        self.hp = hp\n",
    "    \n",
    "    def aumentar_hp(self, hp):\n",
    "        self.hp += hp\n",
    "        \n",
    "class Treinador():\n",
    "    # Toda vez que usamos argumentos opcionais (com valores default)\n",
    "    # tudo à direita deve ter um valor default também\n",
    "    def __init__(self, nome = 'Ash', cidade = 'Pallet'):\n",
    "        self.nome = nome\n",
    "        self.cidade = cidade\n",
    "        self.pokemons = []\n",
    "    \n",
    "    def capturar(self, pokemon_selvagem):\n",
    "        if not isinstance(pokemon_selvagem, Pokemon):\n",
    "            return 'Não é um pokémon!'\n",
    "        elif len(self.pokemons):\n",
    "            return 'Não é possível ter mais de 6 Pokemons'\n",
    "        else:\n",
    "            self.pokemons.append(pokemon_selvagem)\n",
    "            contagem += 1\n",
    "            return 'Capturado!'\n",
    "        \n",
    "    def remover (self,nome_pokemon):\n",
    "        for pokemon in self.pokemons:\n",
    "            if pokemon.nome == nome_pokemon:\n",
    "                self.pokemons.remove(pokemon)\n",
    "                return 'Excluído!'"
   ]
  },
  {
   "cell_type": "markdown",
   "metadata": {},
   "source": [
    "Regra de negócio nova: não deve ser possível capturar mais de 6 pokemon para um mesmo treinador; Caso o treinador queira capturar mais de 6, deve transferir um da sua lista atual para seu personal_storage primeiro;"
   ]
  },
  {
   "cell_type": "code",
   "execution_count": null,
   "metadata": {},
   "outputs": [],
   "source": []
  }
 ],
 "metadata": {
  "kernelspec": {
   "display_name": "Python 3",
   "language": "python",
   "name": "python3"
  },
  "language_info": {
   "codemirror_mode": {
    "name": "ipython",
    "version": 3
   },
   "file_extension": ".py",
   "mimetype": "text/x-python",
   "name": "python",
   "nbconvert_exporter": "python",
   "pygments_lexer": "ipython3",
   "version": "3.7.4"
  }
 },
 "nbformat": 4,
 "nbformat_minor": 2
}
