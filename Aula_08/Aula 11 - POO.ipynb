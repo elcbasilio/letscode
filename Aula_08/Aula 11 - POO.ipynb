{
 "cells": [
  {
   "cell_type": "markdown",
   "metadata": {},
   "source": [
    "## Aula 11 - Praticando Orientação a Objetos"
   ]
  },
  {
   "cell_type": "code",
   "execution_count": 39,
   "metadata": {},
   "outputs": [],
   "source": [
    "'''\n",
    " __\n",
    "| PC | -> 1\n",
    "| SC | -> 2\n",
    "| PC | -> 3\n",
    "|  |\n",
    "|  |\n",
    " --\n",
    "'''\n",
    "class Cadeira():\n",
    "    def __init__(self, altura = 0, tecido = 'suede', movel = True):\n",
    "        self.altura = altura\n",
    "        self.tecido = tecido\n",
    "        self.movel = movel\n",
    "        self.por_cima = None\n",
    "    \n",
    "    def sobe(self, para_subir):\n",
    "        self.altura += para_subir\n",
    "    \n",
    "    def empilhar(self, cadeira_por_cima):\n",
    "        self.por_cima = cadeira_por_cima\n",
    "        \n",
    "class Sala():\n",
    "    def __init__(self, numero):\n",
    "        self.numero = numero\n",
    "        self.cadeiras = []\n",
    "        \n",
    "    def __repr__(self):\n",
    "        return '<Sala {}, com {} cadeiras>'.format(self.numero, len(self.cadeiras))\n",
    "    \n",
    "class LetsCodeFL():\n",
    "    def __init__(self):\n",
    "        self.salas = {}\n",
    "    \n",
    "    def criar_sala(self, numero_sala):\n",
    "        if numero_sala not in self.salas:\n",
    "            self.salas[numero_sala] = Sala(numero_sala)\n",
    "        else:\n",
    "            return 'Já existe a sala {}'.format(numero_sala)\n",
    "        "
   ]
  },
  {
   "cell_type": "code",
   "execution_count": 48,
   "metadata": {},
   "outputs": [],
   "source": [
    "lc.salas[4].cadeiras[0].sobe(10)"
   ]
  },
  {
   "cell_type": "code",
   "execution_count": 40,
   "metadata": {},
   "outputs": [],
   "source": [
    "lc = LetsCodeFL()"
   ]
  },
  {
   "cell_type": "code",
   "execution_count": 44,
   "metadata": {},
   "outputs": [
    {
     "data": {
      "text/plain": [
       "'Já existe a sala 4'"
      ]
     },
     "execution_count": 44,
     "metadata": {},
     "output_type": "execute_result"
    }
   ],
   "source": [
    "lc.criar_sala(4)"
   ]
  },
  {
   "cell_type": "code",
   "execution_count": 46,
   "metadata": {},
   "outputs": [
    {
     "data": {
      "text/plain": [
       "[<__main__.Cadeira at 0x10992cf98>]"
      ]
     },
     "execution_count": 46,
     "metadata": {},
     "output_type": "execute_result"
    }
   ],
   "source": [
    "lc.salas[4].cadeiras.append(primeira_cadeira)\n",
    "lc.salas[4].cadeiras"
   ]
  },
  {
   "cell_type": "code",
   "execution_count": 21,
   "metadata": {},
   "outputs": [
    {
     "data": {
      "text/plain": [
       "<__main__.Cadeira at 0x10992cf98>"
      ]
     },
     "execution_count": 21,
     "metadata": {},
     "output_type": "execute_result"
    }
   ],
   "source": [
    "primeira_cadeira = Cadeira(movel = False, altura = 80, tecido = 'linho')\n",
    "primeira_cadeira"
   ]
  },
  {
   "cell_type": "code",
   "execution_count": 32,
   "metadata": {},
   "outputs": [
    {
     "data": {
      "text/plain": [
       "[]"
      ]
     },
     "execution_count": 32,
     "metadata": {},
     "output_type": "execute_result"
    }
   ],
   "source": [
    "sala = Sala(4)\n",
    "sala.cadeiras"
   ]
  },
  {
   "cell_type": "code",
   "execution_count": 33,
   "metadata": {},
   "outputs": [],
   "source": [
    "sala.cadeiras.append(primeira_cadeira)"
   ]
  },
  {
   "cell_type": "code",
   "execution_count": 38,
   "metadata": {},
   "outputs": [
    {
     "name": "stdout",
     "output_type": "stream",
     "text": [
      "< Sala 4, com 1 cadeiras>\n"
     ]
    }
   ],
   "source": [
    "print(sala)"
   ]
  },
  {
   "cell_type": "code",
   "execution_count": 34,
   "metadata": {},
   "outputs": [
    {
     "data": {
      "text/plain": [
       "[<__main__.Cadeira at 0x10992cf98>]"
      ]
     },
     "execution_count": 34,
     "metadata": {},
     "output_type": "execute_result"
    }
   ],
   "source": [
    "sala.cadeiras"
   ]
  },
  {
   "cell_type": "code",
   "execution_count": 22,
   "metadata": {},
   "outputs": [
    {
     "data": {
      "text/plain": [
       "<__main__.Cadeira at 0x10992cd68>"
      ]
     },
     "execution_count": 22,
     "metadata": {},
     "output_type": "execute_result"
    }
   ],
   "source": [
    "segunda_cadeira = Cadeira(tecido = 'camurça')\n",
    "segunda_cadeira"
   ]
  },
  {
   "cell_type": "code",
   "execution_count": 17,
   "metadata": {},
   "outputs": [
    {
     "name": "stdout",
     "output_type": "stream",
     "text": [
      "90\n",
      "100\n"
     ]
    }
   ],
   "source": [
    "print(primeira_cadeira.altura)\n",
    "primeira_cadeira.sobe(10)\n",
    "print(primeira_cadeira.altura)"
   ]
  },
  {
   "cell_type": "code",
   "execution_count": 16,
   "metadata": {},
   "outputs": [
    {
     "name": "stdout",
     "output_type": "stream",
     "text": [
      "20\n",
      "30\n"
     ]
    }
   ],
   "source": [
    "print(segunda_cadeira.altura)\n",
    "segunda_cadeira.sobe(10)\n",
    "print(segunda_cadeira.altura)"
   ]
  },
  {
   "cell_type": "code",
   "execution_count": 24,
   "metadata": {},
   "outputs": [],
   "source": [
    "primeira_cadeira.empilhar(segunda_cadeira)"
   ]
  },
  {
   "cell_type": "code",
   "execution_count": 25,
   "metadata": {},
   "outputs": [
    {
     "data": {
      "text/plain": [
       "<__main__.Cadeira at 0x10992cd68>"
      ]
     },
     "execution_count": 25,
     "metadata": {},
     "output_type": "execute_result"
    }
   ],
   "source": [
    "segunda_cadeira"
   ]
  },
  {
   "cell_type": "code",
   "execution_count": 26,
   "metadata": {},
   "outputs": [
    {
     "data": {
      "text/plain": [
       "<__main__.Cadeira at 0x10992cd68>"
      ]
     },
     "execution_count": 26,
     "metadata": {},
     "output_type": "execute_result"
    }
   ],
   "source": [
    "primeira_cadeira.por_cima"
   ]
  },
  {
   "cell_type": "markdown",
   "metadata": {},
   "source": [
    "1. Crie uma classe Televisão e uma classe controle remoto que pode controlar o volume e trocar os canais da televisão. O controle de volume permite:\n",
    "\n",
    "    - aumentar ou diminuir a potência do volume de som em uma unidade de cada vez; \n",
    "    - trocar para um canal indicado; \n",
    "    - consultar o valor do volume de som e o canal selecionado."
   ]
  },
  {
   "cell_type": "code",
   "execution_count": 58,
   "metadata": {},
   "outputs": [],
   "source": [
    "class Televisao():\n",
    "    def __init__(self, volume = 10):\n",
    "        self.volume = volume\n",
    "        self.canais = ['TV Camara', 'Cultura', 'Video Game', 'SBT', 'Globo']\n",
    "        self.canal = 4\n",
    "    \n",
    "    def aumentar_volume(self):\n",
    "        self.volume += 1\n",
    "    \n",
    "    def diminuir_volume(self):\n",
    "        if self.volume - 1 == 0:\n",
    "            return\n",
    "        self.volume -= 1\n",
    "    \n",
    "    def get_canal_atual(self):\n",
    "        return self.canais[self.canal]\n",
    "\n",
    "    def mudar_canal(self, canal):\n",
    "        if 0 <= canal < len(self.canais):\n",
    "            self.canal = canal\n",
    "        else:\n",
    "            return 'Canal não existe!'\n",
    "    \n",
    "    def aumentar_canal(self):\n",
    "        self.canal = (self.canal + 1) % len(self.canais)\n",
    "\n",
    "class ControleRemoto():\n",
    "    def __init__(self, tv_que_controlo):\n",
    "        self.tv_que_controlo = tv_que_controlo\n",
    "    \n",
    "    def aumentar_volume(self):\n",
    "        self.tv_que_controlo.aumentar_volume()\n",
    "\n",
    "    def diminuir_volume(self):\n",
    "        self.tv_que_controlo.diminuir_volume()\n",
    "    \n",
    "    def mutar(self):\n",
    "        self.tv_que_controlo.volume = 0\n",
    "        "
   ]
  },
  {
   "cell_type": "code",
   "execution_count": 59,
   "metadata": {},
   "outputs": [
    {
     "name": "stdout",
     "output_type": "stream",
     "text": [
      "10\n"
     ]
    }
   ],
   "source": [
    "tv_sala4 = Televisao()\n",
    "tv_sala5 = Televisao()\n",
    "print(tv_sala4.volume)"
   ]
  },
  {
   "cell_type": "code",
   "execution_count": 60,
   "metadata": {},
   "outputs": [],
   "source": [
    "controle_sala4 = ControleRemoto(tv_sala4)"
   ]
  },
  {
   "cell_type": "code",
   "execution_count": 61,
   "metadata": {},
   "outputs": [
    {
     "name": "stdout",
     "output_type": "stream",
     "text": [
      "11\n",
      "10\n"
     ]
    }
   ],
   "source": [
    "controle_sala4.aumentar_volume()\n",
    "print(tv_sala4.volume)\n",
    "print(tv_sala5.volume)"
   ]
  },
  {
   "cell_type": "code",
   "execution_count": 62,
   "metadata": {},
   "outputs": [
    {
     "data": {
      "text/plain": [
       "'Globo'"
      ]
     },
     "execution_count": 62,
     "metadata": {},
     "output_type": "execute_result"
    }
   ],
   "source": [
    "tv_sala4.get_canal_atual()"
   ]
  },
  {
   "cell_type": "code",
   "execution_count": 64,
   "metadata": {},
   "outputs": [
    {
     "data": {
      "text/plain": [
       "'SBT'"
      ]
     },
     "execution_count": 64,
     "metadata": {},
     "output_type": "execute_result"
    }
   ],
   "source": [
    "tv_sala4.mudar_canal(3)\n",
    "tv_sala4.get_canal_atual()"
   ]
  },
  {
   "cell_type": "code",
   "execution_count": 85,
   "metadata": {},
   "outputs": [
    {
     "data": {
      "text/plain": [
       "'SBT'"
      ]
     },
     "execution_count": 85,
     "metadata": {},
     "output_type": "execute_result"
    }
   ],
   "source": [
    "tv_sala4.aumentar_canal()\n",
    "tv_sala4.get_canal_atual()"
   ]
  },
  {
   "cell_type": "markdown",
   "metadata": {},
   "source": [
    "2. Um cliente pediu que criássemos um sistema de agenda. Essa agenda deve ser capaz de armazenar os contatos, fazendo operações de inclusão, remoção, busca e listagem (CRUD). Escreva as classes e métodos que você imagina para resolver esse problema usando orientação a objetos.\n",
    "\n",
    "*dica: crie um método e coloque a palavra `pass` para que ele exista mas não seja implementado*\n",
    "\n",
    "    def metodo(self):\n",
    "        pass"
   ]
  },
  {
   "cell_type": "code",
   "execution_count": 73,
   "metadata": {},
   "outputs": [],
   "source": [
    "class Contato():\n",
    "    def __init__(self, nome):\n",
    "        self.nome = nome\n",
    "\n",
    "class Agenda():\n",
    "    def __init__(self):\n",
    "        # Lista de contatos\n",
    "        self.contatos = []\n",
    "\n",
    "    def incluir(self, contato):\n",
    "        pass\n",
    "\n",
    "    def remover(self, contato):\n",
    "        pass\n",
    "\n",
    "    def buscar(self, nome):\n",
    "        pass\n",
    "\n",
    "    def listar_contatos(self):\n",
    "        pass"
   ]
  },
  {
   "cell_type": "markdown",
   "metadata": {},
   "source": [
    "3. Construa uma classe Bola cujos atributos são raio e cor. Crie métodos para exibir o objeto (raio e cor), para calcular a área (obs. a área da esfera é `4*pi*r*r/3`) e para calcular o volume (obs. o volume de uma esfera é `4*pi*r**3`)."
   ]
  },
  {
   "cell_type": "code",
   "execution_count": 89,
   "metadata": {},
   "outputs": [],
   "source": [
    "import math\n",
    "\n",
    "class Bola():\n",
    "    def __init__(self, raio, cor):\n",
    "        self.raio = raio\n",
    "        self.cor = cor\n",
    "    \n",
    "    def get_area(self):\n",
    "        return (4 * math.pi * self.raio ** 2) / 3\n",
    "\n",
    "    def get_volume(self):\n",
    "        return (4 * math.pi * self.raio ** 3)\n",
    "    \n",
    "    def __repr__(self):\n",
    "        return '<Bola, raio {}, cor {}>'.format(self.raio, self.cor)\n",
    "    "
   ]
  },
  {
   "cell_type": "code",
   "execution_count": 92,
   "metadata": {},
   "outputs": [
    {
     "data": {
      "text/plain": [
       "[<Bola, raio 5, cor lilas>,\n",
       " <Bola, raio 6, cor lilas>,\n",
       " <Bola, raio 5, cor lilas>,\n",
       " <Bola, raio 10, cor lilas>,\n",
       " <Bola, raio 6, cor lilas>,\n",
       " <Bola, raio 3, cor lilas>,\n",
       " <Bola, raio 9, cor lilas>,\n",
       " <Bola, raio 6, cor lilas>,\n",
       " <Bola, raio 3, cor lilas>,\n",
       " <Bola, raio 9, cor lilas>]"
      ]
     },
     "execution_count": 92,
     "metadata": {},
     "output_type": "execute_result"
    }
   ],
   "source": [
    "import random\n",
    "bolas = []\n",
    "for i in range(10):\n",
    "    bolas.append(Bola(random.randint(1, 10), 'lilas'))\n",
    "    \n",
    "bolas"
   ]
  },
  {
   "cell_type": "markdown",
   "metadata": {},
   "source": [
    "4. Vamos fazer um sistema para um banco bem pequeno, que está começando agora. Precisamos começar a codificar a primeira versão do back-end, usando python e orientação a objetos. A classe Cliente já está definida, possuindo os atributos `nome`, `email` e `cpf`. Agora precisamos criar a **conta bancária**. Toda conta bancária deve:\n",
    "    - Ter o atributo cliente\n",
    "    - Ter como sacar uma quantidade de dinheiro\n",
    "    - Ter como depositar uma quantidade de dinheiro\n",
    "    - Poder transferir uma quantidade de dinheiro para outra conta"
   ]
  },
  {
   "cell_type": "code",
   "execution_count": 98,
   "metadata": {},
   "outputs": [
    {
     "data": {
      "text/plain": [
       "Nome: Guilherme\n",
       "Email: poli.rey@gmail.com\n",
       "CPF: 123123123"
      ]
     },
     "execution_count": 98,
     "metadata": {},
     "output_type": "execute_result"
    }
   ],
   "source": [
    "class Cliente():\n",
    "    def __init__(self, nome, email, cpf):\n",
    "        self.nome = nome\n",
    "        self.email = email\n",
    "        self.cpf = cpf\n",
    "    def __repr__(self):\n",
    "        return 'Nome: {}\\nEmail: {}\\nCPF: {}'.format(self.nome, self.email, self.cpf)\n",
    "\n",
    "\n",
    "guilherme = Cliente('Guilherme', 'poli.rey@gmail.com', 123123123)\n",
    "guilherme"
   ]
  },
  {
   "cell_type": "code",
   "execution_count": 115,
   "metadata": {},
   "outputs": [],
   "source": [
    "class ContaBancaria():\n",
    "    def __init__(self, cliente, saldo = 0):\n",
    "        self.cliente = cliente\n",
    "        self.saldo = saldo\n",
    "        \n",
    "    def sacar(self, quantidade):\n",
    "        if self.saldo - quantidade < 0:\n",
    "            return -1\n",
    "        \n",
    "        self.saldo -= quantidade\n",
    "        return self.saldo\n",
    "    \n",
    "    def depositar(self, quantidade):\n",
    "        self.saldo += quantidade\n",
    "        return self.saldo\n",
    "\n",
    "    def transferir(self, quantidade, outra_conta):\n",
    "        # Sacando quantidade de mim mesmo\n",
    "        meu_saldo = self.sacar(quantidade)\n",
    "        # Se retornar -1, não foi possível sacar; transferencia cancelada\n",
    "        if meu_saldo == -1:\n",
    "            return 'Transferência não realizada'\n",
    "        \n",
    "        outra_conta.depositar(quantidade)\n",
    "        return 'Transferência de R$ {} para conta de {} realizada'.format(quantidade, outra_conta.cliente.nome)\n",
    "        "
   ]
  },
  {
   "cell_type": "code",
   "execution_count": 116,
   "metadata": {},
   "outputs": [
    {
     "data": {
      "text/plain": [
       "0"
      ]
     },
     "execution_count": 116,
     "metadata": {},
     "output_type": "execute_result"
    }
   ],
   "source": [
    "minha_conta = ContaBancaria(guilherme)\n",
    "minha_conta.saldo"
   ]
  },
  {
   "cell_type": "code",
   "execution_count": 117,
   "metadata": {},
   "outputs": [
    {
     "data": {
      "text/plain": [
       "__main__.ContaBancaria"
      ]
     },
     "execution_count": 117,
     "metadata": {},
     "output_type": "execute_result"
    }
   ],
   "source": [
    "type(minha_conta)"
   ]
  },
  {
   "cell_type": "code",
   "execution_count": 118,
   "metadata": {},
   "outputs": [
    {
     "name": "stdout",
     "output_type": "stream",
     "text": [
      "-1\n",
      "100\n",
      "200\n"
     ]
    }
   ],
   "source": [
    "saldo = minha_conta.sacar(100)\n",
    "print(saldo)\n",
    "saldo = minha_conta.depositar(100)\n",
    "print(saldo)\n",
    "saldo = minha_conta.depositar(100)\n",
    "print(saldo)"
   ]
  },
  {
   "cell_type": "code",
   "execution_count": 120,
   "metadata": {},
   "outputs": [],
   "source": [
    "thiago = Cliente('Thiago', 'thiago@gmail.com', 1231231234)\n",
    "conta_thiago = ContaBancaria(thiago, saldo = 200)"
   ]
  },
  {
   "cell_type": "code",
   "execution_count": 129,
   "metadata": {},
   "outputs": [
    {
     "name": "stdout",
     "output_type": "stream",
     "text": [
      "Transferência não realizada\n"
     ]
    }
   ],
   "source": [
    "retorno = minha_conta.transferir(100, conta_thiago)\n",
    "print(retorno)"
   ]
  },
  {
   "cell_type": "code",
   "execution_count": 130,
   "metadata": {},
   "outputs": [
    {
     "name": "stdout",
     "output_type": "stream",
     "text": [
      "400\n",
      "0\n"
     ]
    }
   ],
   "source": [
    "print(conta_thiago.saldo)\n",
    "print(minha_conta.saldo)"
   ]
  },
  {
   "cell_type": "markdown",
   "metadata": {},
   "source": [
    "5. Estamos construindo nossa base para o jogo do pokémon simplificado. Basicamente, são pequenos monstros que podem ser capturados e usados em batalhas com outros pequenos monstros. Um `Treinador` é uma pessoa que tem um `nome`, `pokebolas` e `pokemons`. Um `Pokemon` tem `nome`, `tipo`, `hp`, `som` e `dano` (quanto de dano dá numa batalha). \n",
    "\n",
    "    Um treinador pode capturar um pokemon, desde que tenha pokébolas disponíveis. Um pokemon pode atacar algo, desde que esse algo seja um pokémon também. Se ele tentar atacar o que não seja outro pokémon, ele mesmo reduz sua vida em 10 pontos.\n",
    "\n",
    "    Essas duas representações são dadas:"
   ]
  },
  {
   "cell_type": "code",
   "execution_count": 149,
   "metadata": {},
   "outputs": [],
   "source": [
    "import random\n",
    "\n",
    "class Item():\n",
    "    def acao(self, pokemon):\n",
    "        pass\n",
    "\n",
    "class Mochila():\n",
    "    def __init__(self):\n",
    "        self.itens = []\n",
    "    \n",
    "    def add_item(self, item):\n",
    "        if len(self.itens) == 15:\n",
    "            return 'Remove first'\n",
    "        \n",
    "        self.itens.append(item)\n",
    "        \n",
    "\n",
    "class Treinador():\n",
    "    def __init__(self, nome, pokemons = [], mochila = Mochila()):\n",
    "        self.nome = nome\n",
    "        self.pokemons = pokemons\n",
    "        self.pokebolas = 1\n",
    "        self.mochila = mochila\n",
    "        \n",
    "    def encontrou_item(self, item):\n",
    "        self.mochila.add_item(item)\n",
    "\n",
    "    def trocar(self, outro_treinador):\n",
    "        pass\n",
    "    \n",
    "    # Tenta capturar um pokémon\n",
    "    def capturar(self, pokemon):\n",
    "        if self.pokebolas == 0:\n",
    "            return 'No pokeballs!'\n",
    "        \n",
    "        self.pokebolas -= 1\n",
    "        if random.randint(0, 100) > 20:\n",
    "            self.pokemons.append(pokemon)\n",
    "            return '{} added to your pokedex!'.format(pokemon.nome)\n",
    "        else:\n",
    "            return '{} ran away!'.format(pokemon.nome)\n",
    "\n",
    "    def get_pokemon_number(self):\n",
    "        return len(self.pokemons)\n",
    "    \n",
    "class Pokemon():\n",
    "    def __init__(self, nome, tipo, hp, som = 'hmm', dano = 10):\n",
    "        # atributos da classe\n",
    "        self.nome = nome\n",
    "        self.tipo = tipo\n",
    "        self.hp = hp\n",
    "        self.som = som\n",
    "        self.dano = dano\n",
    "    \n",
    "    def __repr__(self):\n",
    "        return '{}, do tipo {} <{}>'.format(self.nome, self.tipo, self.som)\n",
    "\n",
    "    def get_hp(self):\n",
    "        return self.hp\n",
    "    def aumentar_hp(self, quantidade):\n",
    "        self.hp += quantidade\n",
    "    def diminuir_hp(self, quantidade):\n",
    "        if self.hp - quantidade < 0:\n",
    "            self.hp = 0\n",
    "        else:\n",
    "            self.hp -= quantidade\n",
    "    def emitir_som(self):\n",
    "        return '<POKESOM> {}'.format(self.som)\n",
    "    \n",
    "    def atacar(self, outro_pokemon):\n",
    "        if not isinstance(outro_pokemon, Pokemon):\n",
    "            self.diminuir_hp(10)\n",
    "            return\n",
    "        \n",
    "        outro_pokemon.diminuir_hp(self.dano)"
   ]
  },
  {
   "cell_type": "markdown",
   "metadata": {},
   "source": [
    "Primeiro, leia e entenda o que as classes acima estão fazendo. Relacione com os atributos com as descrições de características e os métodos com as ações de cada objeto.\n",
    "Agora, os desafios:\n",
    "\n",
    "1. Como fazer com que um pokemon não tenha vida negativa quando sofre um ataque?\n",
    "2. Precisamos fazer um upgrade no jogo para permitir o uso de itens! Para isso, vamos assumir que um treinador tem uma `Mochila` para guardar esses itens. Cada mochila pode receber, no máximo, 15 itens. Cada `Item` tem um nome e uma ação. Nós não precisamos programar a ação do item.\n",
    "    - Como fazemos para representar essa mochila?\n",
    "    - Como fazemos para que o treinador tenha uma mochila?\n",
    "    - Como fazemos para representar um item?\n",
    "    - Como fazemos para colocar itens na mochila do treinador? Imagine que o treinador encontrou um item no jogo, como programamos para que seja possível adicioná-lo na mochila?\n",
    "    - Como podemos saber se a mochila está vazia ou cheia?\n",
    "3. Pense em como podemos fazer com que um treinador possa usar um item em um pokémon."
   ]
  },
  {
   "cell_type": "code",
   "execution_count": 150,
   "metadata": {},
   "outputs": [],
   "source": [
    "gui = Treinador('Guilherme')"
   ]
  },
  {
   "cell_type": "code",
   "execution_count": 151,
   "metadata": {},
   "outputs": [
    {
     "data": {
      "text/plain": [
       "1"
      ]
     },
     "execution_count": 151,
     "metadata": {},
     "output_type": "execute_result"
    }
   ],
   "source": [
    "gui.pokebolas"
   ]
  },
  {
   "cell_type": "code",
   "execution_count": 152,
   "metadata": {},
   "outputs": [
    {
     "data": {
      "text/plain": [
       "Pikachu, do tipo elétrico <EIIIITA>"
      ]
     },
     "execution_count": 152,
     "metadata": {},
     "output_type": "execute_result"
    }
   ],
   "source": [
    "pokemon = Pokemon('Pikachu', 'elétrico', 100, som = 'EIIIITA')\n",
    "pokemon"
   ]
  },
  {
   "cell_type": "code",
   "execution_count": 153,
   "metadata": {},
   "outputs": [
    {
     "data": {
      "text/plain": [
       "'Pikachu added to your pokedex!'"
      ]
     },
     "execution_count": 153,
     "metadata": {},
     "output_type": "execute_result"
    }
   ],
   "source": [
    "r = gui.capturar(pokemon)\n",
    "r"
   ]
  },
  {
   "cell_type": "code",
   "execution_count": 154,
   "metadata": {},
   "outputs": [
    {
     "data": {
      "text/plain": [
       "[Pikachu, do tipo elétrico <EIIIITA>]"
      ]
     },
     "execution_count": 154,
     "metadata": {},
     "output_type": "execute_result"
    }
   ],
   "source": [
    "gui.pokemons"
   ]
  },
  {
   "cell_type": "code",
   "execution_count": 155,
   "metadata": {},
   "outputs": [],
   "source": [
    "item = Item()"
   ]
  },
  {
   "cell_type": "code",
   "execution_count": 156,
   "metadata": {},
   "outputs": [
    {
     "data": {
      "text/plain": [
       "[<__main__.Item at 0x1099ea550>]"
      ]
     },
     "execution_count": 156,
     "metadata": {},
     "output_type": "execute_result"
    }
   ],
   "source": [
    "gui.encontrou_item(item)\n",
    "gui.mochila.itens"
   ]
  },
  {
   "cell_type": "code",
   "execution_count": 177,
   "metadata": {},
   "outputs": [],
   "source": [
    "class WaterPokemon(Pokemon):\n",
    "    def atacar(self, outro_pokemon):\n",
    "        meu_dano = self.dano\n",
    "        if isinstance(outro_pokemon, FirePokemon):\n",
    "            meu_dano = self.dano * 2\n",
    "        \n",
    "        outro_pokemon.diminuir_hp(meu_dano)\n",
    "\n",
    "class EletricPokemon(Pokemon):\n",
    "    pass\n",
    "\n",
    "class FirePokemon(Pokemon):\n",
    "    pass"
   ]
  },
  {
   "cell_type": "code",
   "execution_count": 180,
   "metadata": {},
   "outputs": [],
   "source": [
    "squirtle = WaterPokemon('Squirtle', 'water', 120)\n",
    "charmander = FirePokemon('Charmander', 'fire', 100)\n",
    "pikachu = EletricPokemon('Pikachu', 'eletric', 110)"
   ]
  },
  {
   "cell_type": "code",
   "execution_count": 181,
   "metadata": {},
   "outputs": [
    {
     "name": "stdout",
     "output_type": "stream",
     "text": [
      "<class '__main__.WaterPokemon'>\n",
      "<class '__main__.FirePokemon'>\n",
      "<class '__main__.EletricPokemon'>\n"
     ]
    }
   ],
   "source": [
    "print(type(squirtle))\n",
    "print(type(charmander))\n",
    "print(type(pikachu))"
   ]
  },
  {
   "cell_type": "code",
   "execution_count": 183,
   "metadata": {},
   "outputs": [],
   "source": [
    "squirtle.atacar(pikachu)\n",
    "squirtle.atacar(charmander)"
   ]
  },
  {
   "cell_type": "code",
   "execution_count": 184,
   "metadata": {},
   "outputs": [
    {
     "name": "stdout",
     "output_type": "stream",
     "text": [
      "Pikachu:\t 100\n",
      "Squirtle:\t 120\n",
      "Charmander:\t 80\n"
     ]
    }
   ],
   "source": [
    "print('Pikachu:\\t', pikachu.hp)\n",
    "print('Squirtle:\\t', squirtle.hp)\n",
    "print('Charmander:\\t', charmander.hp)"
   ]
  },
  {
   "cell_type": "code",
   "execution_count": null,
   "metadata": {},
   "outputs": [],
   "source": []
  }
 ],
 "metadata": {
  "kernelspec": {
   "display_name": "Python 3",
   "language": "python",
   "name": "python3"
  },
  "language_info": {
   "codemirror_mode": {
    "name": "ipython",
    "version": 3
   },
   "file_extension": ".py",
   "mimetype": "text/x-python",
   "name": "python",
   "nbconvert_exporter": "python",
   "pygments_lexer": "ipython3",
   "version": "3.7.4"
  }
 },
 "nbformat": 4,
 "nbformat_minor": 2
}
