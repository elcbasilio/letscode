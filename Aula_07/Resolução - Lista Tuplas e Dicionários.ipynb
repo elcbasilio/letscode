{
 "cells": [
  {
   "cell_type": "markdown",
   "metadata": {},
   "source": [
    "\t1. Crie uma tupla com todos os números de 0 até 9. Explore a sintaxe: use e depois não use parênteses."
   ]
  },
  {
   "cell_type": "code",
   "execution_count": null,
   "metadata": {
    "scrolled": false
   },
   "outputs": [],
   "source": [
    "lista=[]\n",
    "for i in range (10):\n",
    "    lista.append(i)\n",
    "tupla = tuple (lista)\n",
    "print (tupla)"
   ]
  },
  {
   "cell_type": "markdown",
   "metadata": {},
   "source": [
    "3. Crie uma tupla com todos os pares entre 0 e 100 (inclusive)."
   ]
  },
  {
   "cell_type": "code",
   "execution_count": null,
   "metadata": {},
   "outputs": [],
   "source": [
    "lista=[]\n",
    "for i in range (101):\n",
    "    if i % 2 == 0:\n",
    "        lista.append(i)\n",
    "tupla = tuple (lista)\n",
    "print (tupla)"
   ]
  },
  {
   "cell_type": "markdown",
   "metadata": {},
   "source": [
    "4. Crie uma função que recebe uma lista de números e devolve, nesta ordem, o mínimo, a média, o desvio padrão e o máximo."
   ]
  },
  {
   "cell_type": "code",
   "execution_count": null,
   "metadata": {},
   "outputs": [],
   "source": [
    "def funcao(listadenumeros):\n",
    "    import math\n",
    "    soma = 0 \n",
    "    minimo = min(listadenumeros) \n",
    "    media = sum (listadenumeros) / len (listadenumeros)\n",
    "    for i in listadenumeros:\n",
    "        soma += (i - (sum (listadenumeros) / len (listadenumeros)))**2\n",
    "    dp = math.sqrt (soma / len (listadenumeros))\n",
    "    maximo = max(listadenumeros) \n",
    "    return minimo,media,dp,maximo\n",
    "listadenumeros = (1,2,3,4,5)\n",
    "print ('O mínimo, a média, o desvio padrão e o máximo dos números informados é, respectivamente,',funcao(listadenumeros))"
   ]
  },
  {
   "cell_type": "markdown",
   "metadata": {},
   "source": [
    "5.\tCrie uma função que recebe uma lista e retorna True se todos os seus elementos forem numéricos (int, float ou string contendo um int ou float) ou False do contrário. A função deve também retornar a lista tratada: transformar todas as entradas não numéricas em numéricas ou, no melhor caso, devolver a lista apenas."
   ]
  },
  {
   "cell_type": "code",
   "execution_count": null,
   "metadata": {},
   "outputs": [],
   "source": [
    "def tipo(lista):\n",
    "    for i in lista:\n",
    "        if type(i) == str: \n",
    "            resposta = False\n",
    "            if i.isdigit():\n",
    "                nova_lista.append (int (i))\n",
    "        else: \n",
    "            resposta = True\n",
    "            nova_lista.append (i)\n",
    "    return resposta,nova_lista\n",
    "lista=[1.23,2,55,99,'a99']\n",
    "nova_lista=[]\n",
    "print ('Todos os elementos da lista são numéricos? / Novo lista excluindo textos',tipo(lista))"
   ]
  },
  {
   "cell_type": "markdown",
   "metadata": {},
   "source": [
    "6.\tJunto com a lista de exercícios você recebeu um arquivo .csv (PBR.csv) contendo, nesta ordem, o valor de abertura, o maior valor do dia, o menor valor do dia e o valor, o valor de fechamento e o valor ajustado de fechamento do ativo PBR4.SA, negociado pela bovespa desde 2000 (em reais). Antes de mais nada, abra o arquivo (pode ser aberto no sublime mesmo). Faça uma função que recebe uma data e retorna, nessa ordem, os valores de abertura, alto, baixo, fechamento ou fechamento ajustado desse dia. "
   ]
  },
  {
   "cell_type": "code",
   "execution_count": 16,
   "metadata": {},
   "outputs": [
    {
     "data": {
      "text/plain": [
       "('7.359379768371582',\n",
       " '7.375',\n",
       " '7.21875',\n",
       " '7.265620231628418',\n",
       " '0.02286025881767273')"
      ]
     },
     "execution_count": 16,
     "metadata": {},
     "output_type": "execute_result"
    }
   ],
   "source": [
    "import csv\n",
    "def funcao (data):\n",
    "    with open ('PBR.csv') as bolsa:\n",
    "        leitor = csv.DictReader(bolsa)\n",
    "        for linha in leitor: #linha é um dicionario\n",
    "            if linha['Date'] == data:\n",
    "                return(linha['Open'],linha['High'],linha['Low'],linha['Close'],linha['Adj Close']) \n",
    "outubro = funcao('2000-10-31')\n",
    "outubro"
   ]
  },
  {
   "cell_type": "markdown",
   "metadata": {},
   "source": [
    "<p>7. \tFaça uma função que recebe valores a, b e c e resolve a equação quadrática 〖ax^(2 )+ bx + c = 0〗^e retorna:</p>\n",
    "\t<p>a) o valor de Δ (obs. Δ=b^2- 4ac)</p>\n",
    "\t<p>b) uma tupla com o valor dos pontos de mínimo ou máximo x_m=-b/2a e y_m  = -Δ/4a;</p>\n",
    "\t<p>c) uma lista contendo as raízes (a lista pode ser vazia, caso Δ<0, pode conter apenas um elemento, caso Δ = 0, ou conter duas raízes, caso Δ> 0).\n"
   ]
  },
  {
   "cell_type": "code",
   "execution_count": 2,
   "metadata": {},
   "outputs": [],
   "source": []
  },
  {
   "cell_type": "markdown",
   "metadata": {},
   "source": [
    "8.\tCrie um dicionário cujas chaves são os meses desse ano e os valores são a duração (em dias) de cada um, respectivamente."
   ]
  },
  {
   "cell_type": "code",
   "execution_count": 10,
   "metadata": {},
   "outputs": [
    {
     "name": "stdout",
     "output_type": "stream",
     "text": [
      "{'Janeiro': 31, 'Fevereiro': 28, 'Março': 31, 'Abril': 30, 'Maio': 31, 'Junho': 30, 'Julho': 31, 'Agosto': 31, 'Setembro': 30, 'Outubro': 31, 'Novembro': 30, 'Dezembro': 31}\n"
     ]
    },
    {
     "data": {
      "text/plain": [
       "12"
      ]
     },
     "execution_count": 10,
     "metadata": {},
     "output_type": "execute_result"
    }
   ],
   "source": [
    "dic = {'Janeiro':31,'Fevereiro':28,'Março':31,'Abril':30,'Maio':31,'Junho':30,'Julho':31,'Agosto':31,'Setembro':30,'Outubro':31,'Novembro':30,'Dezembro':31}\n",
    "print (dic)\n",
    "len (dic)"
   ]
  },
  {
   "cell_type": "markdown",
   "metadata": {},
   "source": [
    "9.\tCrie um dicionário para as seguintes relações:\n",
    "a.\t‘Banana’: 3.0\n",
    "b.\t‘Cebola’: 4.0\n",
    "c.\t‘Maçã’: 5.7\n",
    "d.\t‘Abacaxi’: 8.0"
   ]
  },
  {
   "cell_type": "code",
   "execution_count": 41,
   "metadata": {},
   "outputs": [
    {
     "data": {
      "text/plain": [
       "{'Banana': 3.0, 'Cebola': 4.0, 'Maçã': 5.7}"
      ]
     },
     "execution_count": 41,
     "metadata": {},
     "output_type": "execute_result"
    }
   ],
   "source": [
    "a = {'Banana': 3.0}\n",
    "b = {'Cebola': 4.0} \n",
    "c = {'Maçã': 5.7} \n",
    "d = {'Abacaxi': 8.0}\n",
    "frutas = {}\n",
    "frutas.update (a) \n",
    "frutas.update (b) \n",
    "frutas.update (c)\n",
    "frutas"
   ]
  },
  {
   "cell_type": "markdown",
   "metadata": {},
   "source": [
    "10.\tAltere o valor da chave ‘Maçã’ no dicionário do exercício 9 para 8.6. "
   ]
  },
  {
   "cell_type": "code",
   "execution_count": 42,
   "metadata": {},
   "outputs": [
    {
     "data": {
      "text/plain": [
       "{'Banana': 3.0, 'Cebola': 4.0, 'Maçã': 8.6}"
      ]
     },
     "execution_count": 42,
     "metadata": {},
     "output_type": "execute_result"
    }
   ],
   "source": [
    "frutas['Maçã'] = 8.6\n",
    "frutas"
   ]
  },
  {
   "cell_type": "markdown",
   "metadata": {},
   "source": [
    "11.\tCrie uma função que verifica se determinada chave está presente no dicionário. A função deverá retornar True, caso a chave estiver, ou False do contrário."
   ]
  },
  {
   "cell_type": "code",
   "execution_count": 60,
   "metadata": {},
   "outputs": [
    {
     "name": "stdout",
     "output_type": "stream",
     "text": [
      "Digite o nome de uma fruta: Cebola\n",
      "True\n"
     ]
    }
   ],
   "source": [
    "def funcao (nome):\n",
    "    print (nome in frutas)\n",
    "nome = input ('Digite o nome de uma fruta: ')\n",
    "funcao(nome)"
   ]
  },
  {
   "cell_type": "markdown",
   "metadata": {},
   "source": [
    "12.\tCrie uma função que recebe um dicionário como um parâmetro. A sua função deve sortear um número aleatório (use a biblioteca random) alterar os valores de todas as chaves que possuírem um valor menor que o sorteado. A sua função deverá retornar True, caso algum valor tiver sido alterado ou False do contrário. A sua função precisa retornar o dicionário para que a alteração seja feita?"
   ]
  },
  {
   "cell_type": "markdown",
   "metadata": {},
   "source": [
    "13.\tCrie uma função que recebe 4 strings: nome, cpf, endereço e telefone. A função deve retornar um dicionário com as informações dos argumentos."
   ]
  },
  {
   "cell_type": "markdown",
   "metadata": {},
   "source": [
    "14.\tCom o auxílio do arquivo PBR.csv, crie um dicionário no qual as chaves são as datas e os valores são um dicionário contendo cada uma das informações dos valores de abertura, maior valor, menor valor, fechamento e fechamento ajustado."
   ]
  },
  {
   "cell_type": "markdown",
   "metadata": {},
   "source": [
    "15.\tVocê está recebendo junto com a lista de exercícios um arquivo .txt (Dom_Casmurro.txt) com a obra Dom Casmurro de Machado de Assis (obra de domínio público baixada e depois editada para essa aula do Projeto Gutenberg). Faça uma função que recebe uma palavra e retorna quantas vezes essa palavra ocorreu na obra inteira e uma lista com os números da linha de ocorrência (que pode ser vazia)."
   ]
  },
  {
   "cell_type": "markdown",
   "metadata": {},
   "source": [
    "16.\tCom o auxílio do arquivo PBR.csv, crie uma função que recebe duas datas e devolve um dicionário (no mesmo formato do exercício 12) contendo todos os dados entre essas duas datas (inclusive). "
   ]
  },
  {
   "cell_type": "code",
   "execution_count": null,
   "metadata": {},
   "outputs": [],
   "source": []
  }
 ],
 "metadata": {
  "kernelspec": {
   "display_name": "Python 3",
   "language": "python",
   "name": "python3"
  },
  "language_info": {
   "codemirror_mode": {
    "name": "ipython",
    "version": 3
   },
   "file_extension": ".py",
   "mimetype": "text/x-python",
   "name": "python",
   "nbconvert_exporter": "python",
   "pygments_lexer": "ipython3",
   "version": "3.7.4"
  }
 },
 "nbformat": 4,
 "nbformat_minor": 2
}
