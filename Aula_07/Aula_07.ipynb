{
 "cells": [
  {
   "cell_type": "markdown",
   "metadata": {},
   "source": [
    "# Tuplas e Dicionários"
   ]
  },
  {
   "cell_type": "markdown",
   "metadata": {},
   "source": [
    "movies.csv\n",
    "quantos filmes de cada gênero a lista tem"
   ]
  },
  {
   "cell_type": "code",
   "execution_count": 1,
   "metadata": {},
   "outputs": [
    {
     "data": {
      "text/plain": [
       "{'Adventure': 1117,\n",
       " 'Animation': 447,\n",
       " 'Children': 583,\n",
       " 'Comedy': 3315,\n",
       " 'Fantasy': 654,\n",
       " 'Romance': 1545,\n",
       " 'Drama': 4365,\n",
       " 'Action': 1545,\n",
       " 'Crime': 1100,\n",
       " 'Thriller': 1729,\n",
       " 'Horror': 877,\n",
       " 'Mystery': 543,\n",
       " 'Sci-Fi': 792,\n",
       " 'Documentary': 495,\n",
       " 'IMAX': 153,\n",
       " 'War': 367,\n",
       " 'Musical': 394,\n",
       " 'Western': 168,\n",
       " 'Film-Noir': 133,\n",
       " '(no genres listed)': 18}"
      ]
     },
     "execution_count": 1,
     "metadata": {},
     "output_type": "execute_result"
    }
   ],
   "source": [
    "import csv\n",
    "contagem_cinema = {}\n",
    "with open ('movies.csv',encoding='utf-8') as cinema:\n",
    "    leitor = csv.DictReader(cinema)\n",
    "    for linha in leitor:\n",
    "        genero = linha['genres'].split('|')\n",
    "        for filme in genero:\n",
    "            if filme not in contagem_cinema:\n",
    "                contagem_cinema[filme] = 0\n",
    "            contagem_cinema[filme]+=1\n",
    "contagem_cinema"
   ]
  },
  {
   "cell_type": "code",
   "execution_count": null,
   "metadata": {},
   "outputs": [],
   "source": []
  },
  {
   "cell_type": "code",
   "execution_count": null,
   "metadata": {},
   "outputs": [],
   "source": []
  }
 ],
 "metadata": {
  "kernelspec": {
   "display_name": "Python 3",
   "language": "python",
   "name": "python3"
  },
  "language_info": {
   "codemirror_mode": {
    "name": "ipython",
    "version": 3
   },
   "file_extension": ".py",
   "mimetype": "text/x-python",
   "name": "python",
   "nbconvert_exporter": "python",
   "pygments_lexer": "ipython3",
   "version": "3.7.4"
  }
 },
 "nbformat": 4,
 "nbformat_minor": 2
}
