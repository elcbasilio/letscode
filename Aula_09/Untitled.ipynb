{
 "cells": [
  {
   "cell_type": "code",
   "execution_count": 16,
   "metadata": {},
   "outputs": [],
   "source": [
    "from tkinter import *\n",
    "\n",
    "main_window = Tk()\n",
    "main_window.geometry ('220x110')\n",
    "main_window.title('Calculadora')\n",
    "\n",
    "frame_1 = Frame(main_window)\n",
    "frame_1.pack(fill=BOTH, expand=True)\n",
    "\n",
    "btn_01 = Button(frame_1, text=\"1\")\n",
    "btn_01.grid(row=1, column=1, columnspan=1)\n",
    "\n",
    "btn_02 = Button(frame_1, text=\"2\")\n",
    "btn_02.grid(row=1, column = 2, columnspan=1)\n",
    "\n",
    "btn_03 = Button(frame_1, text=\"3\")\n",
    "btn_03.grid(row=1, column = 3, columnspan=1)\n",
    "\n",
    "btn_04 = Button(frame_1, text=\"4\")\n",
    "btn_04.grid(row=2, column=1, columnspan=1)\n",
    "\n",
    "btn_05 = Button(frame_1, text=\"5\")\n",
    "btn_05.grid(row=2, column = 2, columnspan=1)\n",
    "\n",
    "btn_06 = Button(frame_1, text=\"6\")\n",
    "btn_06.grid(row=2, column = 3, columnspan=1)\n",
    "\n",
    "btn_07 = Button(frame_1, text=\"7\")\n",
    "btn_07.grid(row=3, column=1, columnspan=1)\n",
    "\n",
    "btn_08 = Button(frame_1, text=\"8\")\n",
    "btn_08.grid(row=3, column = 2, columnspan=1)\n",
    "\n",
    "btn_09 = Button(frame_1, text=\"9\")\n",
    "btn_09.grid(row=3, column = 3, columnspan=1)\n",
    "\n",
    "main_window.mainloop()"
   ]
  },
  {
   "cell_type": "code",
   "execution_count": null,
   "metadata": {},
   "outputs": [],
   "source": []
  }
 ],
 "metadata": {
  "kernelspec": {
   "display_name": "Python 3",
   "language": "python",
   "name": "python3"
  },
  "language_info": {
   "codemirror_mode": {
    "name": "ipython",
    "version": 3
   },
   "file_extension": ".py",
   "mimetype": "text/x-python",
   "name": "python",
   "nbconvert_exporter": "python",
   "pygments_lexer": "ipython3",
   "version": "3.7.4"
  }
 },
 "nbformat": 4,
 "nbformat_minor": 2
}
