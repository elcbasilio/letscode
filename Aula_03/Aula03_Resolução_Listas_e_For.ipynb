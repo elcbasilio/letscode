{
 "cells": [
  {
   "cell_type": "markdown",
   "metadata": {},
   "source": [
    "1. Crie uma lista qualquer e faça um programa que imprima cada elemento da lista usando o for ."
   ]
  },
  {
   "cell_type": "code",
   "execution_count": 1,
   "metadata": {},
   "outputs": [
    {
     "name": "stdout",
     "output_type": "stream",
     "text": [
      "1\n",
      "2\n",
      "3\n",
      "4\n",
      "5\n"
     ]
    }
   ],
   "source": [
    "lista=[1,2,3,4,5]\n",
    "for i in range (len (lista)):\n",
    "    print (lista[i])\n",
    "    i+=1"
   ]
  },
  {
   "cell_type": "markdown",
   "metadata": {},
   "source": [
    "1. Crie uma lista qualquer e faça um programa que imprima cada elemento da lista usando o for (item 1 melhorado)"
   ]
  },
  {
   "cell_type": "code",
   "execution_count": 35,
   "metadata": {},
   "outputs": [
    {
     "name": "stdout",
     "output_type": "stream",
     "text": [
      "Digite o tamanho da lista: 3\n",
      "Digite os elementos que compõem sua lista: 2\n",
      "Digite os elementos que compõem sua lista: 5\n",
      "Digite os elementos que compõem sua lista: y\n",
      "2\n",
      "5\n",
      "y\n",
      "['2', '5', 'y']\n"
     ]
    }
   ],
   "source": [
    "lista=[]\n",
    "tamanho = input ('Digite o tamanho da lista: ')\n",
    "for i in range (int (tamanho)):\n",
    "    entrada =  input ('Digite os elementos que compõem sua lista: ')\n",
    "    lista.append(entrada)\n",
    "    i+=1\n",
    "for x in range (len (lista)):\n",
    "    print (lista[x])\n",
    "    x+=1\n",
    "print(lista)"
   ]
  },
  {
   "cell_type": "markdown",
   "metadata": {},
   "source": [
    "2. Faça um programa que peça para o usuário digitar um número n e imprima uma lista com todos os números de 0 a n-1."
   ]
  },
  {
   "cell_type": "code",
   "execution_count": 5,
   "metadata": {},
   "outputs": [
    {
     "name": "stdout",
     "output_type": "stream",
     "text": [
      "Digite um número: 4\n",
      "0\n",
      "1\n",
      "2\n",
      "3\n"
     ]
    }
   ],
   "source": [
    "lista=[]\n",
    "entrada = input ('Digite um número: ')\n",
    "for i in range (int (entrada)):\n",
    "    lista.append(i)\n",
    "    print (i)\n",
    "    i+=1"
   ]
  },
  {
   "cell_type": "markdown",
   "metadata": {},
   "source": [
    "3. Faça um programa que imprima todos os itens de uma lista, usando while e compare com o exercício 1."
   ]
  },
  {
   "cell_type": "code",
   "execution_count": 9,
   "metadata": {},
   "outputs": [
    {
     "name": "stdout",
     "output_type": "stream",
     "text": [
      "1\n",
      "2\n",
      "3\n",
      "4\n",
      "5\n"
     ]
    }
   ],
   "source": [
    "lista=[1,2,3,4,5]\n",
    "i=0\n",
    "while i <= (len (lista) - 1):\n",
    "    print (lista[i])\n",
    "    i+=1"
   ]
  },
  {
   "cell_type": "markdown",
   "metadata": {},
   "source": [
    "4. Faça um programa que olhe todos os itens de uma lista e diga quantos deles são pares."
   ]
  },
  {
   "cell_type": "code",
   "execution_count": 15,
   "metadata": {},
   "outputs": [
    {
     "name": "stdout",
     "output_type": "stream",
     "text": [
      "Digite o tamanho da lista: 7\n",
      "Digite os elementos que compõem sua lista (apenas números) 1\n",
      "Digite os elementos que compõem sua lista (apenas números) 2\n",
      "Digite os elementos que compõem sua lista (apenas números) 3\n",
      "Digite os elementos que compõem sua lista (apenas números) 4\n",
      "Digite os elementos que compõem sua lista (apenas números) 5\n",
      "Digite os elementos que compõem sua lista (apenas números) 6\n",
      "Digite os elementos que compõem sua lista (apenas números) 7\n",
      "Esta foi a lista digitada por você: [1, 2, 3, 4, 5, 6, 7]\n",
      "A quantidade de números pares nesta lista é: 3\n"
     ]
    }
   ],
   "source": [
    "lista=[]\n",
    "tamanho = input ('Digite o tamanho da lista: ')\n",
    "for i in range (int (tamanho)):\n",
    "    entrada =  int (input ('Digite os elementos que compõem sua lista (apenas números) '))\n",
    "    lista.append(entrada)\n",
    "    i+=1\n",
    "print ('Esta foi a lista digitada por você:',lista)\n",
    "pares = 0\n",
    "for i in range (len (lista)):\n",
    "    if lista[i] % 2 == 0:\n",
    "        pares+=1\n",
    "        i+=1\n",
    "    else:\n",
    "        i+=1\n",
    "print ('A quantidade de números pares nesta lista é:',pares)"
   ]
  },
  {
   "cell_type": "markdown",
   "metadata": {},
   "source": [
    "5. Faça um programa que imprima o maior número de uma lista, sem usar max()"
   ]
  },
  {
   "cell_type": "code",
   "execution_count": 21,
   "metadata": {},
   "outputs": [
    {
     "name": "stdout",
     "output_type": "stream",
     "text": [
      "Digite o tamanho da lista: 4\n",
      "Digite os elementos que compõem sua lista (apenas números) 3\n",
      "Digite os elementos que compõem sua lista (apenas números) 4\n",
      "Digite os elementos que compõem sua lista (apenas números) 2\n",
      "Digite os elementos que compõem sua lista (apenas números) 1\n",
      "Esta foi a lista digitada por você: [3, 4, 2, 1]\n",
      "O maior número da sua lista é: 4\n"
     ]
    }
   ],
   "source": [
    "lista=[]\n",
    "tamanho = input ('Digite o tamanho da lista: ')\n",
    "for i in range (int (tamanho)):\n",
    "    entrada =  int (input ('Digite os elementos que compõem sua lista (apenas números) '))\n",
    "    lista.append(entrada)\n",
    "    i+=1\n",
    "print ('Esta foi a lista digitada por você:',lista)\n",
    "maior = -9999999999999\n",
    "for i in range (len (lista)):\n",
    "    if lista[i] > maior:\n",
    "        maior=lista[i]\n",
    "        i+=1\n",
    "print ('O maior número da sua lista é:',maior)"
   ]
  },
  {
   "cell_type": "markdown",
   "metadata": {},
   "source": [
    "6. Agora usando max() faça um programa que imprima os três maiores números de uma lista"
   ]
  },
  {
   "cell_type": "code",
   "execution_count": 28,
   "metadata": {},
   "outputs": [
    {
     "name": "stdout",
     "output_type": "stream",
     "text": [
      "Digite o tamanho da lista: 7\n",
      "Digite os elementos que compõem sua lista (apenas números) 12\n",
      "Digite os elementos que compõem sua lista (apenas números) 89\n",
      "Digite os elementos que compõem sua lista (apenas números) 32\n",
      "Digite os elementos que compõem sua lista (apenas números) 66\n",
      "Digite os elementos que compõem sua lista (apenas números) 98\n",
      "Digite os elementos que compõem sua lista (apenas números) 13\n",
      "Digite os elementos que compõem sua lista (apenas números) 8\n",
      "Esta foi a lista digitada por você: [12, 89, 32, 66, 98, 13, 8]\n",
      "Esta foi a lista digitada por você e agora ordenada do menor para o maior: [8, 12, 13, 32, 66, 89, 98]\n",
      "Os 3 maiores números da sua lista são: 66 , 89 e 98\n"
     ]
    }
   ],
   "source": [
    "lista=[]\n",
    "tamanho = input ('Digite o tamanho da lista: ')\n",
    "for i in range (int (tamanho)):\n",
    "    entrada =  int (input ('Digite os elementos que compõem sua lista (apenas números) '))\n",
    "    lista.append(entrada)\n",
    "    i+=1\n",
    "print ('Esta foi a lista digitada por você:',lista)\n",
    "lista.sort()\n",
    "print ('Esta foi a lista digitada por você e agora ordenada do menor para o maior:',lista)\n",
    "print ('Os 3 maiores números da sua lista são:',lista[-3],',',lista[-2],'e',lista[-1])"
   ]
  },
  {
   "cell_type": "markdown",
   "metadata": {},
   "source": [
    "7. Faça um programa que, dadas duas listas de mesmo tamanho, crie uma nova lista com cada elemento igual a soma dos elementos da lista 1 com a lista 2, na mesma posição.\n",
    "Exemplo: dadas lista1 = [1, 4, 5] e lista2 = [2, 2, 3], então lista3 = [1+2, 4+2, 5+3] = [3, 6, 8]"
   ]
  },
  {
   "cell_type": "code",
   "execution_count": 33,
   "metadata": {},
   "outputs": [
    {
     "name": "stdout",
     "output_type": "stream",
     "text": [
      "Digite o tamanho da lista: 3\n",
      "Digite os elementos que compõem sua lista (apenas números) 1\n",
      "Digite os elementos que compõem sua lista (apenas números) 2\n",
      "Digite os elementos que compõem sua lista (apenas números) 3\n",
      "Digite os elementos que compõem sua lista (apenas números) 4\n",
      "Digite os elementos que compõem sua lista (apenas números) 5\n",
      "Digite os elementos que compõem sua lista (apenas números) 6\n",
      "Esta foi a 1ª lista digitada por você: [1, 2, 3]\n",
      "Esta foi a 2ª lista digitada por você: [4, 5, 6]\n",
      "A soma dos itens de cada lista gera uma 3ª lista: [5, 7, 9]\n"
     ]
    }
   ],
   "source": [
    "lista1=[]\n",
    "lista2=[]\n",
    "lista3=[]\n",
    "tamanho = input ('Digite o tamanho da lista: ')\n",
    "for i in range (int (tamanho)):\n",
    "    entrada1 =  int (input ('Digite os elementos que compõem sua lista (apenas números) '))\n",
    "    lista1.append(entrada1)\n",
    "    i+=1\n",
    "for i in range (int (tamanho)):\n",
    "    entrada2 =  int (input ('Digite os elementos que compõem sua lista (apenas números) '))\n",
    "    lista2.append(entrada2)\n",
    "    i+=1\n",
    "print ('Esta foi a 1ª lista digitada por você:',lista1)\n",
    "print ('Esta foi a 2ª lista digitada por você:',lista2)\n",
    "for i in range (int (tamanho)):\n",
    "    lista3.append(lista1[i]+lista2[i])\n",
    "    i+=1\n",
    "print ('A soma dos itens de cada lista gera uma 3ª lista:',lista3)"
   ]
  },
  {
   "cell_type": "markdown",
   "metadata": {},
   "source": [
    "8. Faça um programa que dadas duas listas de mesmo tamanho, imprima o produto escalar entre elas.\n",
    "OBS: produto escalar é a soma do resultado da multiplicação entre o número na posição i da lista1 pelo número na posição i da lista2, com i variando de 0 ao tamanho da lista.\n",
    "Exemplo: dadas lista1 = [1, 4, 5] e lista2 = [2, 2, 3], então prod = 1*2 + 4*2 + 5*3"
   ]
  },
  {
   "cell_type": "code",
   "execution_count": 34,
   "metadata": {},
   "outputs": [
    {
     "name": "stdout",
     "output_type": "stream",
     "text": [
      "Digite o tamanho da lista: 3\n",
      "Digite os elementos que compõem sua lista (apenas números) 4\n",
      "Digite os elementos que compõem sua lista (apenas números) 5\n",
      "Digite os elementos que compõem sua lista (apenas números) 6\n",
      "Digite os elementos que compõem sua lista (apenas números) 1\n",
      "Digite os elementos que compõem sua lista (apenas números) 2\n",
      "Digite os elementos que compõem sua lista (apenas números) 3\n",
      "Esta foi a 1ª lista digitada por você: [4, 5, 6]\n",
      "Esta foi a 2ª lista digitada por você: [1, 2, 3]\n",
      "A multiplicação dos itens de cada lista gera uma 3ª lista: [4, 10, 18]\n",
      "O produto escalar das 2 listas é: 32\n"
     ]
    }
   ],
   "source": [
    "lista1=[]\n",
    "lista2=[]\n",
    "lista3=[]\n",
    "tamanho = input ('Digite o tamanho da lista: ')\n",
    "for i in range (int (tamanho)):\n",
    "    entrada1 =  int (input ('Digite os elementos que compõem sua lista (apenas números) '))\n",
    "    lista1.append(entrada1)\n",
    "    i+=1\n",
    "for i in range (int (tamanho)):\n",
    "    entrada2 =  int (input ('Digite os elementos que compõem sua lista (apenas números) '))\n",
    "    lista2.append(entrada2)\n",
    "    i+=1\n",
    "print ('Esta foi a 1ª lista digitada por você:',lista1)\n",
    "print ('Esta foi a 2ª lista digitada por você:',lista2)\n",
    "produto = 0\n",
    "for i in range (int (tamanho)):\n",
    "    lista3.append(lista1[i]*lista2[i])\n",
    "    produto += lista3[i]\n",
    "    i+=1\n",
    "print ('A multiplicação dos itens de cada lista gera uma 3ª lista:',lista3)\n",
    "print ('O produto escalar das 2 listas é:',produto)"
   ]
  },
  {
   "cell_type": "markdown",
   "metadata": {},
   "source": [
    "9. Faça um programa que pede para o usuário digitar 5 números e, ao final, imprime uma lista com os 5 números digitados pelo usuário (sem converter os número para int ou float).\n",
    "Exemplo: Se o usuário digitar 1, 5, 2, 3, 6 o programa deve imprimir a lista ['1','5','2','3','6']"
   ]
  },
  {
   "cell_type": "code",
   "execution_count": 36,
   "metadata": {},
   "outputs": [
    {
     "name": "stdout",
     "output_type": "stream",
     "text": [
      "Digite o tamanho da lista: 5\n",
      "Digite os elementos que compõem sua lista: 1\n",
      "Digite os elementos que compõem sua lista: 2\n",
      "Digite os elementos que compõem sua lista: 3\n",
      "Digite os elementos que compõem sua lista: 4\n",
      "Digite os elementos que compõem sua lista: 5\n",
      "['1', '2', '3', '4', '5']\n"
     ]
    }
   ],
   "source": [
    "lista=[]\n",
    "tamanho = input ('Digite o tamanho da lista: ')\n",
    "for i in range (int (tamanho)):\n",
    "    entrada =  input ('Digite os elementos que compõem sua lista: ')\n",
    "    lista.append(entrada)\n",
    "    i+=1\n",
    "print(lista)"
   ]
  },
  {
   "cell_type": "markdown",
   "metadata": {},
   "source": [
    "10. Pegue a lista gerada no exercício anterior e transforme cada um dos itens dessa lista em um float.\n",
    "OBS: Não é para alterar o programa anterior, mas a lista gerada por ele"
   ]
  },
  {
   "cell_type": "code",
   "execution_count": 41,
   "metadata": {},
   "outputs": [
    {
     "name": "stdout",
     "output_type": "stream",
     "text": [
      "Digite o tamanho da lista: 4\n",
      "Digite os elementos que compõem sua lista: 6\n",
      "Digite os elementos que compõem sua lista: 2\n",
      "Digite os elementos que compõem sua lista: 8\n",
      "Digite os elementos que compõem sua lista: 9\n",
      "['6', '2', '8', '9']\n",
      "[6.0, 2.0, 8.0, 9.0]\n"
     ]
    }
   ],
   "source": [
    "lista=[]\n",
    "lista2=[]\n",
    "tamanho = input ('Digite o tamanho da lista: ')\n",
    "for i in range (int (tamanho)):\n",
    "    entrada =  input ('Digite os elementos que compõem sua lista: ')\n",
    "    lista.append(entrada)\n",
    "    i+=1\n",
    "for i in range (len (lista)):\n",
    "    novo = float (lista[i])\n",
    "    lista2.append(novo)\n",
    "    i+=1\n",
    "print (lista)    \n",
    "print (lista2)"
   ]
  },
  {
   "cell_type": "markdown",
   "metadata": {},
   "source": [
    "Faça um Programa que peça as 4 notas bimestrais e mostre a média, usando listas"
   ]
  },
  {
   "cell_type": "code",
   "execution_count": 60,
   "metadata": {},
   "outputs": [
    {
     "name": "stdout",
     "output_type": "stream",
     "text": [
      "Digite a nota do bimestre:4\n",
      "Digite a nota do bimestre:5\n",
      "Digite a nota do bimestre:6\n",
      "Digite a nota do bimestre:7\n",
      "A média de suas notas bimestrais é 5.5\n"
     ]
    }
   ],
   "source": [
    "lista=[]\n",
    "i=1\n",
    "while i <= 4:\n",
    "    nota =  float (input ('Digite a nota do bimestre: '))\n",
    "    lista.append(nota)\n",
    "    i+=1\n",
    "print ('A média de suas notas bimestrais é',sum (lista) / 4)"
   ]
  },
  {
   "cell_type": "markdown",
   "metadata": {},
   "source": [
    "Desafio 1. Faça um programa que peça para o usuário digitar o nome de um aluno, a idade dele e o número de provas que esse aluno fez. Depois disso o programa deve pedir para o usuário digitar as notas de cada prova do aluno. Ao final o programa deve imprimir uma lista contendo:\n",
    "a. Nome do aluno na posição 0\n",
    "b. Idade do aluno na posição 1\n",
    "c. Uma lista com todas as notas na posição 2\n",
    "d. A média do aluno na posição 3\n",
    "e. True ou False, caso a média seja maior que 5 ou não, na posição 4\n",
    "Dica: use o que você fez nos exercícios anteriores para criar esse programa"
   ]
  },
  {
   "cell_type": "code",
   "execution_count": 62,
   "metadata": {},
   "outputs": [
    {
     "name": "stdout",
     "output_type": "stream",
     "text": [
      "Digite o nome do aluno: Edgard\n",
      "Digite a idade do aluno: 26\n",
      "Digite o número de provas que o aluno fez: 4\n",
      "Digite a nota da prova: 4.4\n",
      "Digite a nota da prova: 8.1\n",
      "Digite a nota da prova: 7.2\n",
      "Digite a nota da prova: 6.9\n",
      "['Edgard', 26, [4.4, 8.1, 7.2, 6.9], 6.65, True]\n"
     ]
    }
   ],
   "source": [
    "lista=[]\n",
    "notas_ano=[]\n",
    "aluno = input ('Digite o nome do aluno: ')\n",
    "lista.append(aluno)\n",
    "idade = int (input ('Digite a idade do aluno: '))\n",
    "lista.append(idade)\n",
    "num_provas = int (input ('Digite o número de provas que o aluno fez: '))\n",
    "for i in range (num_provas):\n",
    "    nota = float (input ('Digite a nota da prova: '))\n",
    "    notas_ano.append (nota)\n",
    "    i+=1\n",
    "lista.append(notas_ano)\n",
    "media = sum (notas_ano) / num_provas\n",
    "lista.append(media)\n",
    "if media > 5:\n",
    "    aprovado = True\n",
    "else:\n",
    "    aprovado = False\n",
    "lista.append(aprovado)\n",
    "print (lista)"
   ]
  },
  {
   "cell_type": "markdown",
   "metadata": {},
   "source": [
    "Desafio 2. Faça um programa como o do item anterior, porém que imprima a média sem considerar a maior e menor nota do aluno (nesse caso o número de provas precisa ser obrigatoriamente maior que dois)\n",
    "Dica: crie uma cópia com a lista de todas as notas antes de fazer a média"
   ]
  },
  {
   "cell_type": "code",
   "execution_count": 67,
   "metadata": {},
   "outputs": [
    {
     "name": "stdout",
     "output_type": "stream",
     "text": [
      "Digite o nome do aluno: eu\n",
      "Digite a idade do aluno: 33\n",
      "Digite o número de provas que o aluno fez: (maior que 2) 6\n",
      "Digite a nota da prova: 4\n",
      "Digite a nota da prova: 2\n",
      "Digite a nota da prova: 8\n",
      "Digite a nota da prova: 9\n",
      "Digite a nota da prova: 4\n",
      "Digite a nota da prova: 1\n",
      "['eu', 33, [4.0, 2.0, 8.0, 9.0, 4.0, 1.0], 4.5, False]\n"
     ]
    }
   ],
   "source": [
    "lista=[]\n",
    "notas_ano=[]\n",
    "aluno = input ('Digite o nome do aluno: ')\n",
    "lista.append(aluno)\n",
    "idade = int (input ('Digite a idade do aluno: '))\n",
    "lista.append(idade)\n",
    "num_provas = int (input ('Digite o número de provas que o aluno fez: (maior que 2) '))\n",
    "for i in range (num_provas):\n",
    "    nota = float (input ('Digite a nota da prova: '))\n",
    "    notas_ano.append (nota)\n",
    "    i+=1\n",
    "lista.append(notas_ano)\n",
    "copia_notas_ano.sort()\n",
    "media = (sum (notas_ano) - min (notas_ano) - max (notas_ano)) / (num_provas-2)\n",
    "lista.append(media)\n",
    "if media > 5:\n",
    "    aprovado = True\n",
    "else:\n",
    "    aprovado = False\n",
    "lista.append(aprovado)\n",
    "print (lista)"
   ]
  },
  {
   "cell_type": "markdown",
   "metadata": {},
   "source": [
    "3. Faça um programa que pede para o usuário digitar o cpf e verifica se ele é válido. Primeiramente o programa deve multiplicar cada um dos 9 primeiros dígitos do CPF pelos números de 10 a 2 e somar todas as respostas. O resultado deve ser multiplicado por 10 e dividido por 11. O resto da divisão deve ser igual ao primeiro dígito verificador (10º dígito). Em seguida, o programa deve multiplicar cada um dos 10 primeiros dígitos do CPF pelos números de 11 a 2 e repetir o procedimento anterior para verificar o segundo dígito verificador.\n",
    "Exemplo: se o CPF for 286.255.878-87 o programa deve fazer primeiro:\n",
    "x = (2* 10 + 8* 9 + 6* 8 + 2* 7 + 5* 6 + 5* 5 + 8* 4 + 7* 3 + 8* 2 ).\n",
    "Em seguida o programa deve testar se x*10%11 == 8 (o décimo número do CPF).\n",
    "Se for, o programa deve calcular\n",
    "x = (2* 11 + 8* 10 + 6* 9 + 2* 8 + 5* 7 + 5* 6 + 8* 5 + 7* 4 + 8* 3 + 8* 2 )\n",
    "e verificar se x*10%11 == 7 (o décimo primeiro número do CPF)"
   ]
  },
  {
   "cell_type": "code",
   "execution_count": 19,
   "metadata": {},
   "outputs": [
    {
     "name": "stdout",
     "output_type": "stream",
     "text": [
      "Digite um número de CPF no formato xxx.xxx.xxx-xx: 211.546.284-00\n",
      "O CPF 211.546.284-00 é Válido!\n"
     ]
    }
   ],
   "source": [
    "verifica_cpf=[]\n",
    "cpf = input ('Digite um número de CPF no formato xxx.xxx.xxx-xx: ')\n",
    "tamanho = len (cpf)\n",
    "for i in range (tamanho):\n",
    "    if '0' <= cpf[i] <= '9':\n",
    "        cpf_num=int(cpf[i])\n",
    "        verifica_cpf.append(cpf_num)\n",
    "verifica_cpf1 = verifica_cpf[0:9]\n",
    "multiplicador1 = 10\n",
    "verificador1 = 0\n",
    "for x in range (len (verifica_cpf1)):\n",
    "    transformada = int (verifica_cpf1[x])\n",
    "    verificador1 += transformada * multiplicador1\n",
    "    multiplicador1 -= 1\n",
    "    x+=1\n",
    "if verificador1 * 10 % 11 != verifica_cpf[9] and verificador1 * 10 % 11 != 10:\n",
    "    print ('O CPF',cpf,'é Inválido!')\n",
    "elif verificador1 * 10 % 11 == 10 and verifica_cpf[9] != 0:\n",
    "    print ('O CPF',cpf,'é Inválido!')\n",
    "else:\n",
    "    for i in range (tamanho):\n",
    "        if '0' <= cpf[i] <= '9':\n",
    "            cpf_num=int(cpf[i])\n",
    "            verifica_cpf.append(cpf_num)\n",
    "        verifica_cpf2 = verifica_cpf[0:10]\n",
    "        multiplicador2 = 11\n",
    "        verificador2 = 0\n",
    "    for z in range (len (verifica_cpf2)):\n",
    "        transformada2 = int (verifica_cpf2[z])\n",
    "        verificador2 += transformada2 * multiplicador2\n",
    "        multiplicador2 -= 1\n",
    "        z+=1\n",
    "    if verificador2 * 10 % 11 == verifica_cpf[10]:\n",
    "        print ('O CPF',cpf,'é Válido!')\n",
    "    elif verificador2 * 10 % 11 == 10 and verifica_cpf[10] == 0:\n",
    "        print ('O CPF',cpf,'é Válido!')\n",
    "    else:\n",
    "        print ('O CPF',cpf,'é Inválido!')"
   ]
  },
  {
   "cell_type": "code",
   "execution_count": null,
   "metadata": {},
   "outputs": [],
   "source": []
  }
 ],
 "metadata": {
  "kernelspec": {
   "display_name": "Python 3",
   "language": "python",
   "name": "python3"
  },
  "language_info": {
   "codemirror_mode": {
    "name": "ipython",
    "version": 3
   },
   "file_extension": ".py",
   "mimetype": "text/x-python",
   "name": "python",
   "nbconvert_exporter": "python",
   "pygments_lexer": "ipython3",
   "version": "3.6.5"
  }
 },
 "nbformat": 4,
 "nbformat_minor": 2
}
