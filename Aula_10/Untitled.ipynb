{
 "cells": [
  {
   "cell_type": "code",
   "execution_count": null,
   "metadata": {},
   "outputs": [],
   "source": [
    "import requests"
   ]
  },
  {
   "cell_type": "code",
   "execution_count": null,
   "metadata": {},
   "outputs": [],
   "source": [
    "url = 'https://swapi.co/api/people/'\n",
    "response=requests.get(url)\n",
    "print (response)\n",
    "response_json=response.json()\n",
    "print (response_json)"
   ]
  },
  {
   "cell_type": "code",
   "execution_count": 7,
   "metadata": {},
   "outputs": [
    {
     "name": "stdout",
     "output_type": "stream",
     "text": [
      "Digite o CEP: 05547030\n",
      "cep 05547-030\n",
      "logradouro Avenida Diogo Gomes Carneiro\n",
      "complemento \n",
      "bairro Jardim Rosa Maria\n",
      "localidade São Paulo\n",
      "uf SP\n",
      "unidade \n",
      "ibge 3550308\n",
      "gia 1004\n"
     ]
    }
   ],
   "source": [
    "import requests\n",
    "cep = input ('Digite o CEP: ')\n",
    "url = 'https://viacep.com.br/ws/'+ cep +'/json/'\n",
    "response = requests.get(url)\n",
    "response_json = response.json()\n",
    "for c,v in response_json.items():\n",
    "    print (c,v)"
   ]
  },
  {
   "cell_type": "code",
   "execution_count": null,
   "metadata": {},
   "outputs": [],
   "source": [
    "import requests\n",
    "from PIL import Image\n",
    "filme = input ('Digite o nome do filme:')\n",
    "url = 'http://www.omdbapi.com/?i=tt3896198&apikey=5a5648f4&t=' + filme\n",
    "response=requests.get(url)\n",
    "response_json=response.json()\n",
    "print ('Ano:',response_json['Year'])\n",
    "print ('Enredo:',response_json['Plot'])  \n",
    "print ('Prêmios:',response_json['Awards'])  \n",
    "print ('Cartaz:')\n",
    "#im = Image.open(\"https://m.media-amazon.com/images/M/MV5BZmIyMDk5NGYtYjQ5NS00ZWQxLTg2YzQtZDk1ZmM4ZDBlN2E3XkEyXkFqcGdeQXVyMTQxNzMzNDI@._V1_SX300.jpg\")\n",
    "#im = Image.open(response_json['Poster'])\n",
    "im.show()"
   ]
  },
  {
   "cell_type": "code",
   "execution_count": null,
   "metadata": {},
   "outputs": [],
   "source": []
  }
 ],
 "metadata": {
  "kernelspec": {
   "display_name": "Python 3",
   "language": "python",
   "name": "python3"
  },
  "language_info": {
   "codemirror_mode": {
    "name": "ipython",
    "version": 3
   },
   "file_extension": ".py",
   "mimetype": "text/x-python",
   "name": "python",
   "nbconvert_exporter": "python",
   "pygments_lexer": "ipython3",
   "version": "3.7.4"
  }
 },
 "nbformat": 4,
 "nbformat_minor": 2
}
