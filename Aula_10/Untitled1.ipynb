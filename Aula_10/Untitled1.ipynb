{
 "cells": [
  {
   "cell_type": "markdown",
   "metadata": {},
   "source": [
    "## import requests\n",
    "mesanoinicio = input ('Digite o mês e ano de inicio de consulta do extrato (mm/aaaa):')\n",
    "mesanofim = input ('Digite o mês e ano do fim de consulta do extrato (mm/aaaa):')\n",
    "pagina=1\n",
    "data=[]\n",
    "indice=0\n",
    "url = 'http://www.transparencia.gov.br/api-de-dados/cartoes?mesExtratoInicio='+mesanoinicio+'&mesExtratoFim='+mesanofim+'&pagina='+str(pagina)\n",
    "resposta = requests.get(url)\n",
    "resposta_json = resposta.json()\n",
    "for i in resposta_json:\n",
    "    if indice < 15:\n",
    "        data1=[]\n",
    "        nome=resposta_json[indice]['portador']['nome']\n",
    "        data1.append(nome)\n",
    "        valor = resposta_json[indice]['valorTransacao']\n",
    "        data1.append(valor)\n",
    "        data.append(data1)\n",
    "    indice+=1\n",
    "while resposta.status_code == 200 and resposta_json!=[]:\n",
    "    pagina+=1\n",
    "    indice=0\n",
    "    url = 'http://www.transparencia.gov.br/api-de-dados/cartoes?mesExtratoInicio='+mesanoinicio+'&mesExtratoFim='+mesanofim+'&pagina='+str(pagina)\n",
    "    resposta = requests.get(url)\n",
    "    resposta_json = resposta.json()\n",
    "    for i in resposta_json:\n",
    "        if indice < 15:\n",
    "            data1=[]\n",
    "            nome=resposta_json[indice]['portador']['nome']\n",
    "            data1.append(nome)\n",
    "            valor = resposta_json[indice]['valorTransacao']\n",
    "            data1.append(valor)\n",
    "            data.append(data1)\n",
    "        indice+=1\n",
    "\n",
    "from tabulate import tabulate\n",
    "headers = ['Nome do Portador', 'Valor Gasto']\n",
    "print(tabulate(data, headers, tablefmt='psql'))"
   ]
  },
  {
   "cell_type": "code",
   "execution_count": null,
   "metadata": {},
   "outputs": [],
   "source": []
  }
 ],
 "metadata": {
  "kernelspec": {
   "display_name": "Python 3",
   "language": "python",
   "name": "python3"
  },
  "language_info": {
   "codemirror_mode": {
    "name": "ipython",
    "version": 3
   },
   "file_extension": ".py",
   "mimetype": "text/x-python",
   "name": "python",
   "nbconvert_exporter": "python",
   "pygments_lexer": "ipython3",
   "version": "3.7.4"
  }
 },
 "nbformat": 4,
 "nbformat_minor": 2
}
