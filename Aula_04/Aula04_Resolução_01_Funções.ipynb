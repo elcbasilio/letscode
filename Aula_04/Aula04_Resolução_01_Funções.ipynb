{
 "cells": [
  {
   "cell_type": "markdown",
   "metadata": {},
   "source": [
    "1. Faça uma função que recebe um número e imprime seu dobro."
   ]
  },
  {
   "cell_type": "code",
   "execution_count": 2,
   "metadata": {},
   "outputs": [
    {
     "name": "stdout",
     "output_type": "stream",
     "text": [
      "Digite um número: 3\n",
      "O dobro de 3.0 é 6.0\n"
     ]
    }
   ],
   "source": [
    "num = float (input ('Digite um número: '))\n",
    "def dobro (num):\n",
    "    result = num * 2\n",
    "    return result\n",
    "print ('O dobro de',num,'é',dobro (num))"
   ]
  },
  {
   "cell_type": "markdown",
   "metadata": {},
   "source": [
    "2. Faça uma função que receba um valor do raio de um círculo e retorne o valor do comprimento de sua circunferência: C = 2*pi*r."
   ]
  },
  {
   "cell_type": "code",
   "execution_count": null,
   "metadata": {},
   "outputs": [],
   "source": [
    "import math\n",
    "raio = float (input ('Digite o raio de uma circunferência: '))\n",
    "def comp_circ (raio):\n",
    "    circ = 2 * math.pi * raio\n",
    "    return circ\n",
    "print ('O valor do comprimento desta circunferência é',comp_circ (raio))"
   ]
  },
  {
   "cell_type": "markdown",
   "metadata": {},
   "source": [
    "3. Faça uma função para cada operação matemática básica (soma, subtração, multiplicação e divisão). As funções devem receber dois números e retornar o resultado da operação."
   ]
  },
  {
   "cell_type": "code",
   "execution_count": null,
   "metadata": {},
   "outputs": [],
   "source": [
    "def soma (num1,num2):\n",
    "    return num1 + num2\n",
    "def subtracao (num1,num2):\n",
    "    return num1 - num2\n",
    "def multiplicacao (num1,num2):\n",
    "    return num1 * num2\n",
    "def divisao (num1,num2):\n",
    "    return num1 / num2\n",
    "operacao = input ('Qual operação matemática deseja realizar (\"+\",\"-\",\"*\",\"/\"): ')\n",
    "num1 = float (input ('Digite o 1º número da operação: '))\n",
    "num2 = float (input ('Digite o 2º número da operação: '))\n",
    "if operacao == '+':\n",
    "    print ('A soma dos números',num1,'e',num2,'é',soma(num1,num2))\n",
    "elif operacao == '-':\n",
    "    print ('A subtração dos números',num1,'e',num2,'é',subtracao(num1,num2))\n",
    "elif operacao == '*':\n",
    "    print ('A multiplicação dos números',num1,'e',num2,'é',multiplicacao(num1,num2))\n",
    "else:\n",
    "    print ('A divisão dos números',num1,'e',num2,'é',divisao(num1,num2))"
   ]
  },
  {
   "cell_type": "markdown",
   "metadata": {},
   "source": [
    "4. Faça uma função que recebe um nome e imprima “ola [nome]”."
   ]
  },
  {
   "cell_type": "code",
   "execution_count": null,
   "metadata": {},
   "outputs": [],
   "source": [
    "def nome (entrada):\n",
    "    return entrada\n",
    "entrada = input ('Digite seu nome: ')\n",
    "print ('Olá',nome(entrada))"
   ]
  },
  {
   "cell_type": "markdown",
   "metadata": {},
   "source": [
    "5. Faça uma função que recebe um nome e um horário e imprime “Bom dia [nome]”, caso seja antes de 12h, “Boa Tarde [nome]”, caso seja entre 12h e 18h e “boa noite [nome]” se for após às 18h."
   ]
  },
  {
   "cell_type": "code",
   "execution_count": null,
   "metadata": {},
   "outputs": [],
   "source": [
    "def periodo (hora):\n",
    "    if 0 <= hora < 12 or hora == 24:\n",
    "        cumprimento = 'Bom dia'\n",
    "        return cumprimento\n",
    "    elif 12 <= hora < 18:\n",
    "        cumprimento = 'Boa tarde'\n",
    "        return cumprimento\n",
    "    elif 18 <= hora < 24:\n",
    "        cumprimento = 'Boa noite'\n",
    "        return cumprimento\n",
    "hora = int (input ('Digite a hora: '))\n",
    "nome = input ('Digite seu nome: ')\n",
    "print (periodo(hora),nome)"
   ]
  },
  {
   "cell_type": "markdown",
   "metadata": {},
   "source": [
    "6. Faça uma função que recebe um número e retorne True se ele é par ou False , se não."
   ]
  },
  {
   "cell_type": "code",
   "execution_count": null,
   "metadata": {},
   "outputs": [],
   "source": [
    "def parouimpar (num):\n",
    "    if num % 2 == 0:\n",
    "        result = 'Este número é Par'\n",
    "        return result\n",
    "    else:\n",
    "        result = 'Este número é Ímpar'\n",
    "        return result\n",
    "num = int (input ('Digite um número inteiro: '))\n",
    "print (parouimpar(num))"
   ]
  },
  {
   "cell_type": "markdown",
   "metadata": {},
   "source": [
    "7. Faça uma função que sorteie 10 números aleatórios entre 0 e 100 e retorne o maior entre eles."
   ]
  },
  {
   "cell_type": "code",
   "execution_count": null,
   "metadata": {},
   "outputs": [],
   "source": [
    "from random import randrange\n",
    "def sorteio ():\n",
    "    lista=[]\n",
    "    i=1\n",
    "    while i <= 10:\n",
    "        num = randrange(0, 100)\n",
    "        lista.append (num)\n",
    "        i+=1\n",
    "    print ('Lista aleatória de números: ',lista)\n",
    "    maior = max (lista)\n",
    "    return maior\n",
    "print ('O maior número da lista é',sorteio ())"
   ]
  },
  {
   "cell_type": "markdown",
   "metadata": {},
   "source": [
    "8. Faça uma função que receba um número n de entrada, sorteie n números aleatórios entre 0 e 100 e retorne a média deles."
   ]
  },
  {
   "cell_type": "code",
   "execution_count": null,
   "metadata": {},
   "outputs": [],
   "source": [
    "from random import randrange\n",
    "def sorteio ():\n",
    "    lista=[]\n",
    "    i=1\n",
    "    while i <= numero:\n",
    "        num = randrange(0, 100)\n",
    "        lista.append (num)\n",
    "        i+=1\n",
    "    print ('Lista aleatória de números: ',lista)\n",
    "    media = sum (lista) / numero\n",
    "    return media\n",
    "numero = int (input ('Digite a quantidade de números de uma lista: '))\n",
    "print ('A média dos números da lista é',sorteio ())"
   ]
  }
 ],
 "metadata": {
  "kernelspec": {
   "display_name": "Python 3",
   "language": "python",
   "name": "python3"
  },
  "language_info": {
   "codemirror_mode": {
    "name": "ipython",
    "version": 3
   },
   "file_extension": ".py",
   "mimetype": "text/x-python",
   "name": "python",
   "nbconvert_exporter": "python",
   "pygments_lexer": "ipython3",
   "version": "3.6.5"
  }
 },
 "nbformat": 4,
 "nbformat_minor": 2
}
