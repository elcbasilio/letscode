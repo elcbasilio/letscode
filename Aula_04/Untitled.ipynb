{
 "cells": [
  {
   "cell_type": "markdown",
   "metadata": {},
   "source": [
    "4. Super Desafio! - Faça um jogo de BlackJack usando funções: o BlackJack ou Vinte e Um é um jogo em que os jogadores podem comprar cartas livremente, enquanto tiverem menos de 21 pontos. No nosso jogo, o Ás vale um ponto; as cartas de 2 a 10 valem o número de pontos que elas representam; e Valete, Dama e Rei valem 10 pontos. Ganha o jogador que tiver o maior número de pontos, que seja menor ou igual a 21. Nosso jogo deve ter as seguintes funções:</p>\n",
    "<p>a. Função principal: a função que vamos chamar para iniciar o jogo. Essa função não irá receber nem retornar nenhuma variável. Ela deve perguntar o número de jogadores participantes e o nome de cada um. Em seguida ela chama as outras funções do jogo.\n",
    "<p>b. Função para criar o baralho: essa função deve criar um baralho (uma lista) com as cartas do baralho.\n",
    "<p>c. Função para a jogada: essa função deve receber o nome do jogador que irá realizar a jogada e, caso ele ainda esteja ativo (tenha menos de 21 pontos e ainda não tenha desistido de comprar cartas) deve perguntar se ele quer comprar uma carta. Se ele responder que sim, a função deve chamar a próxima função para sortear uma carta e somar o valor retornado na pontuação do jogador; se ele responder que não, a função deve desativar o jogador para que ele não possa mais comprar cartas; Essa função só deve ser chamada enquanto houver jogadores ativos.\n",
    "<p>d. Função para o sorteio: essa função retira uma carta aleatória do baralho e retorna o número de pontos que essa carta vale.\n",
    "<p>e. Função verificação: verifica e indica qual/quais jogador/jogadores tem o maior número de pontos, que seja menor do que 21."
   ]
  },
  {
   "cell_type": "code",
   "execution_count": 13,
   "metadata": {},
   "outputs": [
    {
     "name": "stdout",
     "output_type": "stream",
     "text": [
      "['9 Ouro']\n"
     ]
    }
   ],
   "source": [
    "def jogadores():\n",
    "    qtd = int (input ('Digite o número de jogadores da partida: '))\n",
    "    nome_jogador=[]\n",
    "    i=1\n",
    "    while i <= qtd:\n",
    "        jogador=input ('Digite o nome do jogador: ')\n",
    "        nome_jogador.append(jogador)\n",
    "        i+=1\n",
    "    return nome_jogador\n",
    "\n",
    "def baralho ():\n",
    "    cartas = ['A Paus','2 Paus','3 Paus','4 Paus','5 Paus','6 Paus','7 Paus','8 Paus','9 Paus','10 Paus','J Paus','Q Paus','K Paus',\n",
    "              'A Espadas','2 Espadas','3 Espadas','4 Espadas','5 Espadas','6 Espadas','7 Espadas','8 Espadas','9 Espadas','10 Espadas','J Espadas','Q Espadas','K Espadas',\n",
    "              'A Copas','2 Copas','3 Copas','4 Copas','5 Copas','6 Copas','7 Copas','8 Copas','9 Copas','10 Copas','J Copas','Q Copas','K Copas',\n",
    "              'A Ouro','2 Ouro','3 Ouro','4 Ouro','5 Ouro','6 Ouro','7 Ouro','8 Ouro','9 Ouro','10 Ouro','J Ouro','Q Ouro','K Ouro']\n",
    "    return cartas\n",
    "\n",
    "import random\n",
    "\n",
    "repetidos = []\n",
    "sorteado = random.choice(baralho())\n",
    "if sorteado not in repetidos:\n",
    "    repetidos.append(sorteado)\n",
    "print (repetidos)"
   ]
  },
  {
   "cell_type": "code",
   "execution_count": null,
   "metadata": {},
   "outputs": [],
   "source": []
  }
 ],
 "metadata": {
  "kernelspec": {
   "display_name": "Python 3",
   "language": "python",
   "name": "python3"
  }
 },
 "nbformat": 4,
 "nbformat_minor": 2
}
