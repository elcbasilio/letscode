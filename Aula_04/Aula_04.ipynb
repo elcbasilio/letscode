{
 "cells": [
  {
   "cell_type": "markdown",
   "metadata": {},
   "source": [
    "Usar função para calcular a fatorial de um número"
   ]
  },
  {
   "cell_type": "code",
   "execution_count": null,
   "metadata": {},
   "outputs": [],
   "source": [
    "num = int (input ('Digite um número inteiro: '))\n",
    "def fatorial(num):\n",
    "    i=1\n",
    "    fator=1\n",
    "    while i <= num:\n",
    "        fator *= i\n",
    "        i += 1\n",
    "    return fator\n",
    "print (fatorial(num))        "
   ]
  },
  {
   "cell_type": "markdown",
   "metadata": {},
   "source": [
    "Escreva uma função que recebe uma lista e um valor N. Sua função retorna se n está ou não na lista"
   ]
  },
  {
   "cell_type": "code",
   "execution_count": 9,
   "metadata": {},
   "outputs": [
    {
     "name": "stdout",
     "output_type": "stream",
     "text": [
      "Digite o tamanho de sua lista: 4\n",
      "Digite um número para incluir na sua lista: 1\n",
      "Digite um número para incluir na sua lista: 2\n",
      "Digite um número para incluir na sua lista: 3\n",
      "Digite um número para incluir na sua lista: 4\n",
      "Digite um número: 8\n",
      "O número não está na lista\n"
     ]
    }
   ],
   "source": [
    "def cria_lista ():\n",
    "    entrada = []\n",
    "    tam_lista = int (input ('Digite o tamanho de sua lista: '))\n",
    "    while tam_lista != 0:\n",
    "        elemento = int (input ('Digite um número para incluir na sua lista: '))\n",
    "        entrada.append (elemento)\n",
    "        tam_lista -= 1\n",
    "    return entrada  \n",
    "lista = cria_lista ()\n",
    "n = int (input ('Digite um número: '))\n",
    "def encontra_valor (lista,n):\n",
    "    for i in lista:\n",
    "        if i == n:\n",
    "            return 'O número está na lista'\n",
    "    return 'O número não está na lista'\n",
    "print (encontra_valor(lista,n))"
   ]
  },
  {
   "cell_type": "code",
   "execution_count": null,
   "metadata": {},
   "outputs": [],
   "source": []
  }
 ],
 "metadata": {
  "kernelspec": {
   "display_name": "Python 3",
   "language": "python",
   "name": "python3"
  },
  "language_info": {
   "codemirror_mode": {
    "name": "ipython",
    "version": 3
   },
   "file_extension": ".py",
   "mimetype": "text/x-python",
   "name": "python",
   "nbconvert_exporter": "python",
   "pygments_lexer": "ipython3",
   "version": "3.6.5"
  }
 },
 "nbformat": 4,
 "nbformat_minor": 2
}
