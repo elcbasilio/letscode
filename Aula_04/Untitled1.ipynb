{
 "cells": [
  {
   "cell_type": "code",
   "execution_count": 4,
   "metadata": {},
   "outputs": [
    {
     "name": "stdout",
     "output_type": "stream",
     "text": [
      "oi mundo\n"
     ]
    }
   ],
   "source": [
    "alfabeto = 'abcdefghijklmnopqrstuvwxyz'\n",
    "rotacao = -13\n",
    "msg = 'bv zhaqb'\n",
    "saida = ''\n",
    "for entrada in msg:\n",
    "    if entrada in alfabeto:\n",
    "        letra = alfabeto.index(entrada)\n",
    "        saida += alfabeto[(letra + rotacao) % len (alfabeto)]\n",
    "    else:\n",
    "        saida += entrada\n",
    "print (saida)"
   ]
  },
  {
   "cell_type": "code",
   "execution_count": null,
   "metadata": {},
   "outputs": [],
   "source": []
  }
 ],
 "metadata": {
  "kernelspec": {
   "display_name": "Python 3",
   "language": "python",
   "name": "python3"
  },
  "language_info": {
   "codemirror_mode": {
    "name": "ipython",
    "version": 3
   },
   "file_extension": ".py",
   "mimetype": "text/x-python",
   "name": "python",
   "nbconvert_exporter": "python",
   "pygments_lexer": "ipython3",
   "version": "3.6.5"
  }
 },
 "nbformat": 4,
 "nbformat_minor": 2
}
